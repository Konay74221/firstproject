{
  "nbformat": 4,
  "nbformat_minor": 0,
  "metadata": {
    "colab": {
      "name": "Untitled8.ipynb",
      "provenance": [],
      "authorship_tag": "ABX9TyNGoD9/T6k9nELNM/DzX8cL",
      "include_colab_link": true
    },
    "kernelspec": {
      "name": "python3",
      "display_name": "Python 3"
    }
  },
  "cells": [
    {
      "cell_type": "markdown",
      "metadata": {
        "id": "view-in-github",
        "colab_type": "text"
      },
      "source": [
        "<a href=\"https://colab.research.google.com/github/ZawWin58/firstproject/blob/master/lab2.ipynb\" target=\"_parent\"><img src=\"https://colab.research.google.com/assets/colab-badge.svg\" alt=\"Open In Colab\"/></a>"
      ]
    },
    {
      "cell_type": "code",
      "metadata": {
        "id": "H2BTlXNLQtQg",
        "colab_type": "code",
        "colab": {}
      },
      "source": [
        "import pandas as pd"
      ],
      "execution_count": 0,
      "outputs": []
    },
    {
      "cell_type": "code",
      "metadata": {
        "id": "lkos48-vQzWP",
        "colab_type": "code",
        "colab": {}
      },
      "source": [
        "pd.set_option(\"display.width\", 70)"
      ],
      "execution_count": 0,
      "outputs": []
    },
    {
      "cell_type": "code",
      "metadata": {
        "id": "bRzV-HphQ59x",
        "colab_type": "code",
        "outputId": "6d3ac2ca-66c0-4db4-980f-ac0b461345a9",
        "colab": {
          "base_uri": "https://localhost:8080/",
          "height": 363
        }
      },
      "source": [
        "data = pd.read_csv('adult11.csv')\n",
        "data.head()"
      ],
      "execution_count": 0,
      "outputs": [
        {
          "output_type": "execute_result",
          "data": {
            "text/html": [
              "<div>\n",
              "<style scoped>\n",
              "    .dataframe tbody tr th:only-of-type {\n",
              "        vertical-align: middle;\n",
              "    }\n",
              "\n",
              "    .dataframe tbody tr th {\n",
              "        vertical-align: top;\n",
              "    }\n",
              "\n",
              "    .dataframe thead th {\n",
              "        text-align: right;\n",
              "    }\n",
              "</style>\n",
              "<table border=\"1\" class=\"dataframe\">\n",
              "  <thead>\n",
              "    <tr style=\"text-align: right;\">\n",
              "      <th></th>\n",
              "      <th>age</th>\n",
              "      <th>workclass</th>\n",
              "      <th>fnlwgt</th>\n",
              "      <th>education</th>\n",
              "      <th>education-num</th>\n",
              "      <th>marital-status</th>\n",
              "      <th>occupation</th>\n",
              "      <th>relationship</th>\n",
              "      <th>race</th>\n",
              "      <th>gender</th>\n",
              "      <th>capital-gain</th>\n",
              "      <th>capital-loss</th>\n",
              "      <th>hours-per-week</th>\n",
              "      <th>native-country</th>\n",
              "      <th>salary</th>\n",
              "    </tr>\n",
              "  </thead>\n",
              "  <tbody>\n",
              "    <tr>\n",
              "      <th>0</th>\n",
              "      <td>25</td>\n",
              "      <td>Private</td>\n",
              "      <td>226802</td>\n",
              "      <td>11th</td>\n",
              "      <td>7</td>\n",
              "      <td>Never-married</td>\n",
              "      <td>Machine-op-inspct</td>\n",
              "      <td>Own-child</td>\n",
              "      <td>Black</td>\n",
              "      <td>Male</td>\n",
              "      <td>0.0</td>\n",
              "      <td>0.0</td>\n",
              "      <td>40.0</td>\n",
              "      <td>United-States</td>\n",
              "      <td>&lt;=50K</td>\n",
              "    </tr>\n",
              "    <tr>\n",
              "      <th>1</th>\n",
              "      <td>38</td>\n",
              "      <td>Private</td>\n",
              "      <td>89814</td>\n",
              "      <td>HS-grad</td>\n",
              "      <td>9</td>\n",
              "      <td>Married-civ-spouse</td>\n",
              "      <td>Farming-fishing</td>\n",
              "      <td>Husband</td>\n",
              "      <td>White</td>\n",
              "      <td>Male</td>\n",
              "      <td>0.0</td>\n",
              "      <td>0.0</td>\n",
              "      <td>50.0</td>\n",
              "      <td>United-States</td>\n",
              "      <td>&lt;=50K</td>\n",
              "    </tr>\n",
              "    <tr>\n",
              "      <th>2</th>\n",
              "      <td>28</td>\n",
              "      <td>Local-gov</td>\n",
              "      <td>336951</td>\n",
              "      <td>Assoc-acdm</td>\n",
              "      <td>12</td>\n",
              "      <td>Married-civ-spouse</td>\n",
              "      <td>Protective-serv</td>\n",
              "      <td>Husband</td>\n",
              "      <td>White</td>\n",
              "      <td>Male</td>\n",
              "      <td>0.0</td>\n",
              "      <td>0.0</td>\n",
              "      <td>40.0</td>\n",
              "      <td>United-States</td>\n",
              "      <td>&gt;50K</td>\n",
              "    </tr>\n",
              "    <tr>\n",
              "      <th>3</th>\n",
              "      <td>44</td>\n",
              "      <td>Private</td>\n",
              "      <td>160323</td>\n",
              "      <td>Some-college</td>\n",
              "      <td>10</td>\n",
              "      <td>Married-civ-spouse</td>\n",
              "      <td>Machine-op-inspct</td>\n",
              "      <td>Husband</td>\n",
              "      <td>Black</td>\n",
              "      <td>Male</td>\n",
              "      <td>7688.0</td>\n",
              "      <td>0.0</td>\n",
              "      <td>40.0</td>\n",
              "      <td>United-States</td>\n",
              "      <td>&gt;50K</td>\n",
              "    </tr>\n",
              "    <tr>\n",
              "      <th>4</th>\n",
              "      <td>18</td>\n",
              "      <td>?</td>\n",
              "      <td>103497</td>\n",
              "      <td>Some-college</td>\n",
              "      <td>10</td>\n",
              "      <td>Never-married</td>\n",
              "      <td>?</td>\n",
              "      <td>Own-child</td>\n",
              "      <td>White</td>\n",
              "      <td>Female</td>\n",
              "      <td>0.0</td>\n",
              "      <td>0.0</td>\n",
              "      <td>30.0</td>\n",
              "      <td>United-States</td>\n",
              "      <td>&lt;=50K</td>\n",
              "    </tr>\n",
              "  </tbody>\n",
              "</table>\n",
              "</div>"
            ],
            "text/plain": [
              "   age  workclass  fnlwgt  ... hours-per-week  native-country salary\n",
              "0   25    Private  226802  ...           40.0   United-States  <=50K\n",
              "1   38    Private   89814  ...           50.0   United-States  <=50K\n",
              "2   28  Local-gov  336951  ...           40.0   United-States   >50K\n",
              "3   44    Private  160323  ...           40.0   United-States   >50K\n",
              "4   18          ?  103497  ...           30.0   United-States  <=50K\n",
              "\n",
              "[5 rows x 15 columns]"
            ]
          },
          "metadata": {
            "tags": []
          },
          "execution_count": 3
        }
      ]
    },
    {
      "cell_type": "code",
      "metadata": {
        "id": "JH1LFR5aRBU0",
        "colab_type": "code",
        "outputId": "2492f76b-f2a7-4ad8-ede7-4c8bf76a45a5",
        "colab": {
          "base_uri": "https://localhost:8080/",
          "height": 67
        }
      },
      "source": [
        "data[\"gender\"].value_counts()"
      ],
      "execution_count": 0,
      "outputs": [
        {
          "output_type": "execute_result",
          "data": {
            "text/plain": [
              "Male      19301\n",
              "Female     9553\n",
              "Name: gender, dtype: int64"
            ]
          },
          "metadata": {
            "tags": []
          },
          "execution_count": 5
        }
      ]
    },
    {
      "cell_type": "code",
      "metadata": {
        "id": "-9uhgYBURJji",
        "colab_type": "code",
        "outputId": "d5994b7c-eb89-4049-a2c2-31ff16033958",
        "colab": {
          "base_uri": "https://localhost:8080/",
          "height": 34
        }
      },
      "source": [
        "data[data[\"gender\"] == \"Female\"][\"age\"].mean()"
      ],
      "execution_count": 0,
      "outputs": [
        {
          "output_type": "execute_result",
          "data": {
            "text/plain": [
              "36.98230922223385"
            ]
          },
          "metadata": {
            "tags": []
          },
          "execution_count": 8
        }
      ]
    },
    {
      "cell_type": "code",
      "metadata": {
        "id": "B0m36PCMRUkN",
        "colab_type": "code",
        "outputId": "e53cb18b-2998-4d88-efb5-00835bf3e2e6",
        "colab": {
          "base_uri": "https://localhost:8080/",
          "height": 34
        }
      },
      "source": [
        "print(\"{0:%}\".format(data[data[\"native-country\"] == \"Germany\"]\n",
        ".shape[0] / data.shape[0]))"
      ],
      "execution_count": 0,
      "outputs": [
        {
          "output_type": "stream",
          "text": [
            "0.440132%\n"
          ],
          "name": "stdout"
        }
      ]
    },
    {
      "cell_type": "code",
      "metadata": {
        "id": "a6Uxt3g4RYWe",
        "colab_type": "code",
        "outputId": "d1adf00b-ebe4-4eb0-bd9a-08ecc063ec47",
        "colab": {
          "base_uri": "https://localhost:8080/",
          "height": 50
        }
      },
      "source": [
        "ages1 = data[data[\"salary\"] == \"<=50K\"][\"age\"]\n",
        "ages2 = data[data[\"salary\"] == \">50K\"][\"age\"]\n",
        "print(\"<=50K: = {0} ± {1} years\".format(ages1.mean(), ages1.std()))\n",
        "print(\" >50K: = {0} ± {1} years\".format(ages2.mean(), ages2.std()))"
      ],
      "execution_count": 0,
      "outputs": [
        {
          "output_type": "stream",
          "text": [
            "<=50K: = 36.90999590890495 ± 14.166242134563927 years\n",
            " >50K: = 44.1671772428884 ± 10.52773245753095 years\n"
          ],
          "name": "stdout"
        }
      ]
    },
    {
      "cell_type": "code",
      "metadata": {
        "id": "hewutrAhReB7",
        "colab_type": "code",
        "outputId": "ff5fc651-b3e5-4d21-fd84-53d7b7eb6bd9",
        "colab": {
          "base_uri": "https://localhost:8080/",
          "height": 34
        }
      },
      "source": [
        "high_educations = set([\"Bachelors\", \"Prof-school\", \"Assoc-acdm\",\n",
        "                      \"Assoc-voc\", \"Masters\", \"Doctorate\"])\n",
        "def high_educated(e):\n",
        "    return e in high_educations\n",
        "data[data[\"salary\"] == \">50K\"][\"education\"].map(high_educated).all()"
      ],
      "execution_count": 0,
      "outputs": [
        {
          "output_type": "execute_result",
          "data": {
            "text/plain": [
              "False"
            ]
          },
          "metadata": {
            "tags": []
          },
          "execution_count": 11
        }
      ]
    },
    {
      "cell_type": "code",
      "metadata": {
        "id": "zcypXOdKRrNN",
        "colab_type": "code",
        "outputId": "ed086877-92b8-422a-e741-2699751c3ef5",
        "colab": {
          "base_uri": "https://localhost:8080/",
          "height": 373
        }
      },
      "source": [
        "data.groupby([\"race\", \"gender\"])[\"age\"].describe()"
      ],
      "execution_count": 0,
      "outputs": [
        {
          "output_type": "execute_result",
          "data": {
            "text/html": [
              "<div>\n",
              "<style scoped>\n",
              "    .dataframe tbody tr th:only-of-type {\n",
              "        vertical-align: middle;\n",
              "    }\n",
              "\n",
              "    .dataframe tbody tr th {\n",
              "        vertical-align: top;\n",
              "    }\n",
              "\n",
              "    .dataframe thead th {\n",
              "        text-align: right;\n",
              "    }\n",
              "</style>\n",
              "<table border=\"1\" class=\"dataframe\">\n",
              "  <thead>\n",
              "    <tr style=\"text-align: right;\">\n",
              "      <th></th>\n",
              "      <th></th>\n",
              "      <th>count</th>\n",
              "      <th>mean</th>\n",
              "      <th>std</th>\n",
              "      <th>min</th>\n",
              "      <th>25%</th>\n",
              "      <th>50%</th>\n",
              "      <th>75%</th>\n",
              "      <th>max</th>\n",
              "    </tr>\n",
              "    <tr>\n",
              "      <th>race</th>\n",
              "      <th>gender</th>\n",
              "      <th></th>\n",
              "      <th></th>\n",
              "      <th></th>\n",
              "      <th></th>\n",
              "      <th></th>\n",
              "      <th></th>\n",
              "      <th></th>\n",
              "      <th></th>\n",
              "    </tr>\n",
              "  </thead>\n",
              "  <tbody>\n",
              "    <tr>\n",
              "      <th rowspan=\"2\" valign=\"top\">Amer-Indian-Eskimo</th>\n",
              "      <th>Female</th>\n",
              "      <td>115.0</td>\n",
              "      <td>34.930435</td>\n",
              "      <td>12.322937</td>\n",
              "      <td>17.0</td>\n",
              "      <td>25.00</td>\n",
              "      <td>33.0</td>\n",
              "      <td>41.5</td>\n",
              "      <td>63.0</td>\n",
              "    </tr>\n",
              "    <tr>\n",
              "      <th>Male</th>\n",
              "      <td>160.0</td>\n",
              "      <td>37.125000</td>\n",
              "      <td>11.781955</td>\n",
              "      <td>17.0</td>\n",
              "      <td>29.00</td>\n",
              "      <td>35.0</td>\n",
              "      <td>44.0</td>\n",
              "      <td>82.0</td>\n",
              "    </tr>\n",
              "    <tr>\n",
              "      <th rowspan=\"2\" valign=\"top\">Asian-Pac-Islander</th>\n",
              "      <th>Female</th>\n",
              "      <td>300.0</td>\n",
              "      <td>36.350000</td>\n",
              "      <td>13.155139</td>\n",
              "      <td>17.0</td>\n",
              "      <td>26.00</td>\n",
              "      <td>35.0</td>\n",
              "      <td>45.0</td>\n",
              "      <td>81.0</td>\n",
              "    </tr>\n",
              "    <tr>\n",
              "      <th>Male</th>\n",
              "      <td>564.0</td>\n",
              "      <td>38.843972</td>\n",
              "      <td>12.891560</td>\n",
              "      <td>18.0</td>\n",
              "      <td>29.00</td>\n",
              "      <td>37.0</td>\n",
              "      <td>47.0</td>\n",
              "      <td>90.0</td>\n",
              "    </tr>\n",
              "    <tr>\n",
              "      <th rowspan=\"2\" valign=\"top\">Black</th>\n",
              "      <th>Female</th>\n",
              "      <td>1338.0</td>\n",
              "      <td>38.354260</td>\n",
              "      <td>12.967195</td>\n",
              "      <td>17.0</td>\n",
              "      <td>28.00</td>\n",
              "      <td>37.0</td>\n",
              "      <td>47.0</td>\n",
              "      <td>81.0</td>\n",
              "    </tr>\n",
              "    <tr>\n",
              "      <th>Male</th>\n",
              "      <td>1422.0</td>\n",
              "      <td>38.059775</td>\n",
              "      <td>13.239203</td>\n",
              "      <td>17.0</td>\n",
              "      <td>28.00</td>\n",
              "      <td>36.0</td>\n",
              "      <td>46.0</td>\n",
              "      <td>90.0</td>\n",
              "    </tr>\n",
              "    <tr>\n",
              "      <th rowspan=\"2\" valign=\"top\">Other</th>\n",
              "      <th>Female</th>\n",
              "      <td>80.0</td>\n",
              "      <td>30.737500</td>\n",
              "      <td>10.861317</td>\n",
              "      <td>17.0</td>\n",
              "      <td>22.75</td>\n",
              "      <td>28.0</td>\n",
              "      <td>36.0</td>\n",
              "      <td>64.0</td>\n",
              "    </tr>\n",
              "    <tr>\n",
              "      <th>Male</th>\n",
              "      <td>153.0</td>\n",
              "      <td>34.954248</td>\n",
              "      <td>11.800613</td>\n",
              "      <td>17.0</td>\n",
              "      <td>26.00</td>\n",
              "      <td>32.0</td>\n",
              "      <td>41.0</td>\n",
              "      <td>67.0</td>\n",
              "    </tr>\n",
              "    <tr>\n",
              "      <th rowspan=\"2\" valign=\"top\">White</th>\n",
              "      <th>Female</th>\n",
              "      <td>7720.0</td>\n",
              "      <td>36.864378</td>\n",
              "      <td>14.488046</td>\n",
              "      <td>17.0</td>\n",
              "      <td>25.00</td>\n",
              "      <td>35.0</td>\n",
              "      <td>46.0</td>\n",
              "      <td>90.0</td>\n",
              "    </tr>\n",
              "    <tr>\n",
              "      <th>Male</th>\n",
              "      <td>17002.0</td>\n",
              "      <td>39.650629</td>\n",
              "      <td>13.475728</td>\n",
              "      <td>17.0</td>\n",
              "      <td>29.00</td>\n",
              "      <td>38.0</td>\n",
              "      <td>49.0</td>\n",
              "      <td>90.0</td>\n",
              "    </tr>\n",
              "  </tbody>\n",
              "</table>\n",
              "</div>"
            ],
            "text/plain": [
              "                             count       mean        std  ...   50%   75%   max\n",
              "race               gender                                 ...                  \n",
              "Amer-Indian-Eskimo Female    115.0  34.930435  12.322937  ...  33.0  41.5  63.0\n",
              "                   Male      160.0  37.125000  11.781955  ...  35.0  44.0  82.0\n",
              "Asian-Pac-Islander Female    300.0  36.350000  13.155139  ...  35.0  45.0  81.0\n",
              "                   Male      564.0  38.843972  12.891560  ...  37.0  47.0  90.0\n",
              "Black              Female   1338.0  38.354260  12.967195  ...  37.0  47.0  81.0\n",
              "                   Male     1422.0  38.059775  13.239203  ...  36.0  46.0  90.0\n",
              "Other              Female     80.0  30.737500  10.861317  ...  28.0  36.0  64.0\n",
              "                   Male      153.0  34.954248  11.800613  ...  32.0  41.0  67.0\n",
              "White              Female   7720.0  36.864378  14.488046  ...  35.0  46.0  90.0\n",
              "                   Male    17002.0  39.650629  13.475728  ...  38.0  49.0  90.0\n",
              "\n",
              "[10 rows x 8 columns]"
            ]
          },
          "metadata": {
            "tags": []
          },
          "execution_count": 12
        }
      ]
    },
    {
      "cell_type": "code",
      "metadata": {
        "id": "oYdaqYaSRzGi",
        "colab_type": "code",
        "outputId": "c40d05ac-cf86-42c2-80b0-6cb9493adf38",
        "colab": {
          "base_uri": "https://localhost:8080/",
          "height": 34
        }
      },
      "source": [
        "data[(data[\"race\"] == \"Amer-Indian-Eskimo\")\n",
        "& (data[\"gender\"] == \"Male\")][\"age\"].max()"
      ],
      "execution_count": 0,
      "outputs": [
        {
          "output_type": "execute_result",
          "data": {
            "text/plain": [
              "82"
            ]
          },
          "metadata": {
            "tags": []
          },
          "execution_count": 13
        }
      ]
    },
    {
      "cell_type": "code",
      "metadata": {
        "id": "KC8FrJsdSRa9",
        "colab_type": "code",
        "outputId": "c8220886-633b-4d56-8dde-4f0ee9abb6ff",
        "colab": {
          "base_uri": "https://localhost:8080/",
          "height": 67
        }
      },
      "source": [
        "def is_married(m):\n",
        "    return m.startswith(\"Married\")\n",
        "data[\"married\"] = data[\"marital-status\"].map(is_married)\n",
        "(data[(data[\"gender\"] == \"Male\") & (data[\"salary\"] == \">50K\")]\n",
        "    [\"married\"].value_counts())"
      ],
      "execution_count": 0,
      "outputs": [
        {
          "output_type": "execute_result",
          "data": {
            "text/plain": [
              "True     5237\n",
              "False     567\n",
              "Name: married, dtype: int64"
            ]
          },
          "metadata": {
            "tags": []
          },
          "execution_count": 17
        }
      ]
    },
    {
      "cell_type": "code",
      "metadata": {
        "id": "_EEEdKKCTV43",
        "colab_type": "code",
        "outputId": "e3aeca21-1616-4ac4-fba1-1144c01a6f6d",
        "colab": {
          "base_uri": "https://localhost:8080/",
          "height": 67
        }
      },
      "source": [
        "m = data[\"hours-per-week\"].max()\n",
        "print(\"Maximum is {} hours/week.\".format(m))\n",
        "people = data[data[\"hours-per-week\"] == m]\n",
        "c = people.shape[0]\n",
        "print(\"{} people work this time at week.\".format(c))\n",
        "s = people[people[\"salary\"] == \">50K\"].shape[0]\n",
        "print(\"{0:%} get >50K salary.\".format(s / c))"
      ],
      "execution_count": 0,
      "outputs": [
        {
          "output_type": "stream",
          "text": [
            "Maximum is 99.0 hours/week.\n",
            "75 people work this time at week.\n",
            "32.000000% get >50K salary.\n"
          ],
          "name": "stdout"
        }
      ]
    },
    {
      "cell_type": "code",
      "metadata": {
        "id": "8T1s6IRoTcQP",
        "colab_type": "code",
        "outputId": "13ba278f-543d-4629-8e4a-c0f0c6e9f55c",
        "colab": {
          "base_uri": "https://localhost:8080/",
          "height": 1000
        }
      },
      "source": [
        "p = pd.crosstab(data[\"native-country\"], data[\"salary\"],\n",
        "values=data['hours-per-week'], aggfunc=\"mean\")p\n",
        "p"
      ],
      "execution_count": 0,
      "outputs": [
        {
          "output_type": "execute_result",
          "data": {
            "text/html": [
              "<div>\n",
              "<style scoped>\n",
              "    .dataframe tbody tr th:only-of-type {\n",
              "        vertical-align: middle;\n",
              "    }\n",
              "\n",
              "    .dataframe tbody tr th {\n",
              "        vertical-align: top;\n",
              "    }\n",
              "\n",
              "    .dataframe thead th {\n",
              "        text-align: right;\n",
              "    }\n",
              "</style>\n",
              "<table border=\"1\" class=\"dataframe\">\n",
              "  <thead>\n",
              "    <tr style=\"text-align: right;\">\n",
              "      <th>salary</th>\n",
              "      <th>&lt;=50K</th>\n",
              "      <th>&gt;50K</th>\n",
              "    </tr>\n",
              "    <tr>\n",
              "      <th>native-country</th>\n",
              "      <th></th>\n",
              "      <th></th>\n",
              "    </tr>\n",
              "  </thead>\n",
              "  <tbody>\n",
              "    <tr>\n",
              "      <th>?</th>\n",
              "      <td>38.637883</td>\n",
              "      <td>45.384058</td>\n",
              "    </tr>\n",
              "    <tr>\n",
              "      <th>Cambodia</th>\n",
              "      <td>41.307692</td>\n",
              "      <td>47.000000</td>\n",
              "    </tr>\n",
              "    <tr>\n",
              "      <th>Canada</th>\n",
              "      <td>36.411765</td>\n",
              "      <td>46.456522</td>\n",
              "    </tr>\n",
              "    <tr>\n",
              "      <th>China</th>\n",
              "      <td>35.900000</td>\n",
              "      <td>44.380952</td>\n",
              "    </tr>\n",
              "    <tr>\n",
              "      <th>Columbia</th>\n",
              "      <td>40.513514</td>\n",
              "      <td>56.250000</td>\n",
              "    </tr>\n",
              "    <tr>\n",
              "      <th>Cuba</th>\n",
              "      <td>40.825397</td>\n",
              "      <td>40.937500</td>\n",
              "    </tr>\n",
              "    <tr>\n",
              "      <th>Dominican-Republic</th>\n",
              "      <td>40.962963</td>\n",
              "      <td>42.800000</td>\n",
              "    </tr>\n",
              "    <tr>\n",
              "      <th>Ecuador</th>\n",
              "      <td>36.875000</td>\n",
              "      <td>47.333333</td>\n",
              "    </tr>\n",
              "    <tr>\n",
              "      <th>El-Salvador</th>\n",
              "      <td>35.231707</td>\n",
              "      <td>43.600000</td>\n",
              "    </tr>\n",
              "    <tr>\n",
              "      <th>England</th>\n",
              "      <td>38.148936</td>\n",
              "      <td>46.384615</td>\n",
              "    </tr>\n",
              "    <tr>\n",
              "      <th>France</th>\n",
              "      <td>41.100000</td>\n",
              "      <td>39.166667</td>\n",
              "    </tr>\n",
              "    <tr>\n",
              "      <th>Germany</th>\n",
              "      <td>38.223404</td>\n",
              "      <td>45.969697</td>\n",
              "    </tr>\n",
              "    <tr>\n",
              "      <th>Greece</th>\n",
              "      <td>44.333333</td>\n",
              "      <td>56.428571</td>\n",
              "    </tr>\n",
              "    <tr>\n",
              "      <th>Guatemala</th>\n",
              "      <td>38.062500</td>\n",
              "      <td>40.000000</td>\n",
              "    </tr>\n",
              "    <tr>\n",
              "      <th>Haiti</th>\n",
              "      <td>34.386364</td>\n",
              "      <td>39.166667</td>\n",
              "    </tr>\n",
              "    <tr>\n",
              "      <th>Honduras</th>\n",
              "      <td>32.090909</td>\n",
              "      <td>50.000000</td>\n",
              "    </tr>\n",
              "    <tr>\n",
              "      <th>Hong</th>\n",
              "      <td>38.181818</td>\n",
              "      <td>40.000000</td>\n",
              "    </tr>\n",
              "    <tr>\n",
              "      <th>Hungary</th>\n",
              "      <td>36.000000</td>\n",
              "      <td>42.666667</td>\n",
              "    </tr>\n",
              "    <tr>\n",
              "      <th>India</th>\n",
              "      <td>39.207547</td>\n",
              "      <td>44.470588</td>\n",
              "    </tr>\n",
              "    <tr>\n",
              "      <th>Iran</th>\n",
              "      <td>39.458333</td>\n",
              "      <td>48.000000</td>\n",
              "    </tr>\n",
              "    <tr>\n",
              "      <th>Ireland</th>\n",
              "      <td>40.933333</td>\n",
              "      <td>44.111111</td>\n",
              "    </tr>\n",
              "    <tr>\n",
              "      <th>Italy</th>\n",
              "      <td>38.333333</td>\n",
              "      <td>44.500000</td>\n",
              "    </tr>\n",
              "    <tr>\n",
              "      <th>Jamaica</th>\n",
              "      <td>39.780000</td>\n",
              "      <td>43.909091</td>\n",
              "    </tr>\n",
              "    <tr>\n",
              "      <th>Japan</th>\n",
              "      <td>38.972973</td>\n",
              "      <td>43.666667</td>\n",
              "    </tr>\n",
              "    <tr>\n",
              "      <th>Laos</th>\n",
              "      <td>37.777778</td>\n",
              "      <td>NaN</td>\n",
              "    </tr>\n",
              "    <tr>\n",
              "      <th>Mexico</th>\n",
              "      <td>39.870229</td>\n",
              "      <td>46.214286</td>\n",
              "    </tr>\n",
              "    <tr>\n",
              "      <th>Nicaragua</th>\n",
              "      <td>36.760000</td>\n",
              "      <td>40.000000</td>\n",
              "    </tr>\n",
              "    <tr>\n",
              "      <th>Outlying-US(Guam-USVI-etc)</th>\n",
              "      <td>41.666667</td>\n",
              "      <td>40.000000</td>\n",
              "    </tr>\n",
              "    <tr>\n",
              "      <th>Peru</th>\n",
              "      <td>37.318182</td>\n",
              "      <td>40.000000</td>\n",
              "    </tr>\n",
              "    <tr>\n",
              "      <th>Philippines</th>\n",
              "      <td>39.096000</td>\n",
              "      <td>44.585366</td>\n",
              "    </tr>\n",
              "    <tr>\n",
              "      <th>Poland</th>\n",
              "      <td>38.795455</td>\n",
              "      <td>38.300000</td>\n",
              "    </tr>\n",
              "    <tr>\n",
              "      <th>Portugal</th>\n",
              "      <td>40.000000</td>\n",
              "      <td>47.100000</td>\n",
              "    </tr>\n",
              "    <tr>\n",
              "      <th>Puerto-Rico</th>\n",
              "      <td>39.101852</td>\n",
              "      <td>39.866667</td>\n",
              "    </tr>\n",
              "    <tr>\n",
              "      <th>Scotland</th>\n",
              "      <td>40.000000</td>\n",
              "      <td>NaN</td>\n",
              "    </tr>\n",
              "    <tr>\n",
              "      <th>South</th>\n",
              "      <td>42.721311</td>\n",
              "      <td>51.666667</td>\n",
              "    </tr>\n",
              "    <tr>\n",
              "      <th>Taiwan</th>\n",
              "      <td>39.600000</td>\n",
              "      <td>44.000000</td>\n",
              "    </tr>\n",
              "    <tr>\n",
              "      <th>Thailand</th>\n",
              "      <td>46.500000</td>\n",
              "      <td>53.750000</td>\n",
              "    </tr>\n",
              "    <tr>\n",
              "      <th>Trinadad&amp;Tobago</th>\n",
              "      <td>39.266667</td>\n",
              "      <td>NaN</td>\n",
              "    </tr>\n",
              "    <tr>\n",
              "      <th>United-States</th>\n",
              "      <td>38.883042</td>\n",
              "      <td>45.430669</td>\n",
              "    </tr>\n",
              "    <tr>\n",
              "      <th>Vietnam</th>\n",
              "      <td>39.523810</td>\n",
              "      <td>40.000000</td>\n",
              "    </tr>\n",
              "    <tr>\n",
              "      <th>Yugoslavia</th>\n",
              "      <td>36.500000</td>\n",
              "      <td>32.500000</td>\n",
              "    </tr>\n",
              "  </tbody>\n",
              "</table>\n",
              "</div>"
            ],
            "text/plain": [
              "salary                          <=50K       >50K\n",
              "native-country                                  \n",
              "?                           38.637883  45.384058\n",
              "Cambodia                    41.307692  47.000000\n",
              "Canada                      36.411765  46.456522\n",
              "China                       35.900000  44.380952\n",
              "Columbia                    40.513514  56.250000\n",
              "Cuba                        40.825397  40.937500\n",
              "Dominican-Republic          40.962963  42.800000\n",
              "Ecuador                     36.875000  47.333333\n",
              "El-Salvador                 35.231707  43.600000\n",
              "England                     38.148936  46.384615\n",
              "France                      41.100000  39.166667\n",
              "Germany                     38.223404  45.969697\n",
              "Greece                      44.333333  56.428571\n",
              "Guatemala                   38.062500  40.000000\n",
              "Haiti                       34.386364  39.166667\n",
              "Honduras                    32.090909  50.000000\n",
              "Hong                        38.181818  40.000000\n",
              "Hungary                     36.000000  42.666667\n",
              "India                       39.207547  44.470588\n",
              "Iran                        39.458333  48.000000\n",
              "Ireland                     40.933333  44.111111\n",
              "Italy                       38.333333  44.500000\n",
              "Jamaica                     39.780000  43.909091\n",
              "Japan                       38.972973  43.666667\n",
              "Laos                        37.777778        NaN\n",
              "Mexico                      39.870229  46.214286\n",
              "Nicaragua                   36.760000  40.000000\n",
              "Outlying-US(Guam-USVI-etc)  41.666667  40.000000\n",
              "Peru                        37.318182  40.000000\n",
              "Philippines                 39.096000  44.585366\n",
              "Poland                      38.795455  38.300000\n",
              "Portugal                    40.000000  47.100000\n",
              "Puerto-Rico                 39.101852  39.866667\n",
              "Scotland                    40.000000        NaN\n",
              "South                       42.721311  51.666667\n",
              "Taiwan                      39.600000  44.000000\n",
              "Thailand                    46.500000  53.750000\n",
              "Trinadad&Tobago             39.266667        NaN\n",
              "United-States               38.883042  45.430669\n",
              "Vietnam                     39.523810  40.000000\n",
              "Yugoslavia                  36.500000  32.500000"
            ]
          },
          "metadata": {
            "tags": []
          },
          "execution_count": 19
        }
      ]
    },
    {
      "cell_type": "code",
      "metadata": {
        "id": "gb-6Q7ksTjh9",
        "colab_type": "code",
        "outputId": "47fb66e8-1ffd-4f16-d5ab-9fac46535b53",
        "colab": {
          "base_uri": "https://localhost:8080/",
          "height": 84
        }
      },
      "source": [
        "p.loc[\"Japan\"]"
      ],
      "execution_count": 0,
      "outputs": [
        {
          "output_type": "execute_result",
          "data": {
            "text/plain": [
              "salary\n",
              "<=50K    38.972973\n",
              ">50K     43.666667\n",
              "Name: Japan, dtype: float64"
            ]
          },
          "metadata": {
            "tags": []
          },
          "execution_count": 20
        }
      ]
    },
    {
      "cell_type": "code",
      "metadata": {
        "id": "AApPqv36TpqE",
        "colab_type": "code",
        "outputId": "de6f6500-79be-4548-9db2-a8606aeafd77",
        "colab": {
          "base_uri": "https://localhost:8080/",
          "height": 289
        }
      },
      "source": [
        "!pip install pandasql\n",
        "from pandasql import sqldf\n",
        "import pandas as pd"
      ],
      "execution_count": 0,
      "outputs": [
        {
          "output_type": "stream",
          "text": [
            "Collecting pandasql\n",
            "  Downloading https://files.pythonhosted.org/packages/6b/c4/ee4096ffa2eeeca0c749b26f0371bd26aa5c8b611c43de99a4f86d3de0a7/pandasql-0.7.3.tar.gz\n",
            "Requirement already satisfied: numpy in /usr/local/lib/python3.6/dist-packages (from pandasql) (1.18.2)\n",
            "Requirement already satisfied: pandas in /usr/local/lib/python3.6/dist-packages (from pandasql) (1.0.3)\n",
            "Requirement already satisfied: sqlalchemy in /usr/local/lib/python3.6/dist-packages (from pandasql) (1.3.15)\n",
            "Requirement already satisfied: pytz>=2017.2 in /usr/local/lib/python3.6/dist-packages (from pandas->pandasql) (2018.9)\n",
            "Requirement already satisfied: python-dateutil>=2.6.1 in /usr/local/lib/python3.6/dist-packages (from pandas->pandasql) (2.8.1)\n",
            "Requirement already satisfied: six>=1.5 in /usr/local/lib/python3.6/dist-packages (from python-dateutil>=2.6.1->pandas->pandasql) (1.12.0)\n",
            "Building wheels for collected packages: pandasql\n",
            "  Building wheel for pandasql (setup.py) ... \u001b[?25l\u001b[?25hdone\n",
            "  Created wheel for pandasql: filename=pandasql-0.7.3-cp36-none-any.whl size=26819 sha256=b4b1731df8dde4de1262d2d4d7d6452f3baef67175b78a62158faac3caa9b037\n",
            "  Stored in directory: /root/.cache/pip/wheels/53/6c/18/b87a2e5fa8a82e9c026311de56210b8d1c01846e18a9607fc9\n",
            "Successfully built pandasql\n",
            "Installing collected packages: pandasql\n",
            "Successfully installed pandasql-0.7.3\n"
          ],
          "name": "stdout"
        }
      ]
    },
    {
      "cell_type": "code",
      "metadata": {
        "id": "KoY8RymHTxwr",
        "colab_type": "code",
        "colab": {}
      },
      "source": [
        "from pandasql import sqldf\n",
        "pysqldf = lambda q: sqldf(q, globals())"
      ],
      "execution_count": 0,
      "outputs": []
    },
    {
      "cell_type": "code",
      "metadata": {
        "id": "_sPhToxWUAD3",
        "colab_type": "code",
        "colab": {}
      },
      "source": [
        "wind = (pd.read_csv('wind speed.csv', header=None,\n",
        "names=[\"row\", \"UNIX\", \"date\",\n",
        "\"time\", \"speed\", \"text\"])\n",
        ".drop(\"text\", axis=1))\n",
        "temp = (pd.read_csv('temperature.csv', header=None,\n",
        "names=[\"row\", \"UNIX\", \"date\",\n",
        "\"time\", \"temperature\", \"text\"])\n",
        ".drop(\"text\", axis=1))"
      ],
      "execution_count": 0,
      "outputs": []
    },
    {
      "cell_type": "code",
      "metadata": {
        "id": "XJlKRjK3ULz1",
        "colab_type": "code",
        "outputId": "b95810db-c38e-49b5-97e6-46dfb8012dfb",
        "colab": {
          "base_uri": "https://localhost:8080/",
          "height": 195
        }
      },
      "source": [
        "wind.head()"
      ],
      "execution_count": 0,
      "outputs": [
        {
          "output_type": "execute_result",
          "data": {
            "text/html": [
              "<div>\n",
              "<style scoped>\n",
              "    .dataframe tbody tr th:only-of-type {\n",
              "        vertical-align: middle;\n",
              "    }\n",
              "\n",
              "    .dataframe tbody tr th {\n",
              "        vertical-align: top;\n",
              "    }\n",
              "\n",
              "    .dataframe thead th {\n",
              "        text-align: right;\n",
              "    }\n",
              "</style>\n",
              "<table border=\"1\" class=\"dataframe\">\n",
              "  <thead>\n",
              "    <tr style=\"text-align: right;\">\n",
              "      <th></th>\n",
              "      <th>row</th>\n",
              "      <th>UNIX</th>\n",
              "      <th>date</th>\n",
              "      <th>time</th>\n",
              "      <th>speed</th>\n",
              "    </tr>\n",
              "  </thead>\n",
              "  <tbody>\n",
              "    <tr>\n",
              "      <th>0</th>\n",
              "      <td>1</td>\n",
              "      <td>1475315718</td>\n",
              "      <td>2016-09-30</td>\n",
              "      <td>23:55:18</td>\n",
              "      <td>7.87</td>\n",
              "    </tr>\n",
              "    <tr>\n",
              "      <th>1</th>\n",
              "      <td>2</td>\n",
              "      <td>1475315423</td>\n",
              "      <td>2016-09-30</td>\n",
              "      <td>23:50:23</td>\n",
              "      <td>7.87</td>\n",
              "    </tr>\n",
              "    <tr>\n",
              "      <th>2</th>\n",
              "      <td>3</td>\n",
              "      <td>1475315124</td>\n",
              "      <td>2016-09-30</td>\n",
              "      <td>23:45:24</td>\n",
              "      <td>9.00</td>\n",
              "    </tr>\n",
              "    <tr>\n",
              "      <th>3</th>\n",
              "      <td>4</td>\n",
              "      <td>1475314821</td>\n",
              "      <td>2016-09-30</td>\n",
              "      <td>23:40:21</td>\n",
              "      <td>13.50</td>\n",
              "    </tr>\n",
              "    <tr>\n",
              "      <th>4</th>\n",
              "      <td>5</td>\n",
              "      <td>1475314522</td>\n",
              "      <td>2016-09-30</td>\n",
              "      <td>23:35:22</td>\n",
              "      <td>15.75</td>\n",
              "    </tr>\n",
              "  </tbody>\n",
              "</table>\n",
              "</div>"
            ],
            "text/plain": [
              "   row        UNIX        date      time  speed\n",
              "0    1  1475315718  2016-09-30  23:55:18   7.87\n",
              "1    2  1475315423  2016-09-30  23:50:23   7.87\n",
              "2    3  1475315124  2016-09-30  23:45:24   9.00\n",
              "3    4  1475314821  2016-09-30  23:40:21  13.50\n",
              "4    5  1475314522  2016-09-30  23:35:22  15.75"
            ]
          },
          "metadata": {
            "tags": []
          },
          "execution_count": 27
        }
      ]
    },
    {
      "cell_type": "code",
      "metadata": {
        "id": "nGAWSSOwUPQB",
        "colab_type": "code",
        "outputId": "58bd4bec-7e45-4bf9-d5bc-ff7920c37ea4",
        "colab": {
          "base_uri": "https://localhost:8080/",
          "height": 118
        }
      },
      "source": [
        "wind.dtypes"
      ],
      "execution_count": 0,
      "outputs": [
        {
          "output_type": "execute_result",
          "data": {
            "text/plain": [
              "row        int64\n",
              "UNIX       int64\n",
              "date      object\n",
              "time      object\n",
              "speed    float64\n",
              "dtype: object"
            ]
          },
          "metadata": {
            "tags": []
          },
          "execution_count": 28
        }
      ]
    },
    {
      "cell_type": "code",
      "metadata": {
        "id": "YT3XqMV-UVAi",
        "colab_type": "code",
        "outputId": "9ffa496b-cbb1-4232-96a4-9ae92fa85beb",
        "colab": {
          "base_uri": "https://localhost:8080/",
          "height": 195
        }
      },
      "source": [
        "temp.head()"
      ],
      "execution_count": 0,
      "outputs": [
        {
          "output_type": "execute_result",
          "data": {
            "text/html": [
              "<div>\n",
              "<style scoped>\n",
              "    .dataframe tbody tr th:only-of-type {\n",
              "        vertical-align: middle;\n",
              "    }\n",
              "\n",
              "    .dataframe tbody tr th {\n",
              "        vertical-align: top;\n",
              "    }\n",
              "\n",
              "    .dataframe thead th {\n",
              "        text-align: right;\n",
              "    }\n",
              "</style>\n",
              "<table border=\"1\" class=\"dataframe\">\n",
              "  <thead>\n",
              "    <tr style=\"text-align: right;\">\n",
              "      <th></th>\n",
              "      <th>row</th>\n",
              "      <th>UNIX</th>\n",
              "      <th>date</th>\n",
              "      <th>time</th>\n",
              "      <th>temperature</th>\n",
              "    </tr>\n",
              "  </thead>\n",
              "  <tbody>\n",
              "    <tr>\n",
              "      <th>0</th>\n",
              "      <td>1</td>\n",
              "      <td>1475315718</td>\n",
              "      <td>2016-09-30</td>\n",
              "      <td>23:55:18</td>\n",
              "      <td>48</td>\n",
              "    </tr>\n",
              "    <tr>\n",
              "      <th>1</th>\n",
              "      <td>2</td>\n",
              "      <td>1475315423</td>\n",
              "      <td>2016-09-30</td>\n",
              "      <td>23:50:23</td>\n",
              "      <td>48</td>\n",
              "    </tr>\n",
              "    <tr>\n",
              "      <th>2</th>\n",
              "      <td>3</td>\n",
              "      <td>1475315124</td>\n",
              "      <td>2016-09-30</td>\n",
              "      <td>23:45:24</td>\n",
              "      <td>48</td>\n",
              "    </tr>\n",
              "    <tr>\n",
              "      <th>3</th>\n",
              "      <td>4</td>\n",
              "      <td>1475314821</td>\n",
              "      <td>2016-09-30</td>\n",
              "      <td>23:40:21</td>\n",
              "      <td>48</td>\n",
              "    </tr>\n",
              "    <tr>\n",
              "      <th>4</th>\n",
              "      <td>5</td>\n",
              "      <td>1475314522</td>\n",
              "      <td>2016-09-30</td>\n",
              "      <td>23:35:22</td>\n",
              "      <td>48</td>\n",
              "    </tr>\n",
              "  </tbody>\n",
              "</table>\n",
              "</div>"
            ],
            "text/plain": [
              "   row        UNIX        date      time  temperature\n",
              "0    1  1475315718  2016-09-30  23:55:18           48\n",
              "1    2  1475315423  2016-09-30  23:50:23           48\n",
              "2    3  1475315124  2016-09-30  23:45:24           48\n",
              "3    4  1475314821  2016-09-30  23:40:21           48\n",
              "4    5  1475314522  2016-09-30  23:35:22           48"
            ]
          },
          "metadata": {
            "tags": []
          },
          "execution_count": 29
        }
      ]
    },
    {
      "cell_type": "code",
      "metadata": {
        "id": "lWAdWBnfUWLQ",
        "colab_type": "code",
        "outputId": "9923dc12-0b74-4dc2-9602-b850e530b4cc",
        "colab": {
          "base_uri": "https://localhost:8080/",
          "height": 118
        }
      },
      "source": [
        "temp.dtypes"
      ],
      "execution_count": 0,
      "outputs": [
        {
          "output_type": "execute_result",
          "data": {
            "text/plain": [
              "row             int64\n",
              "UNIX            int64\n",
              "date           object\n",
              "time           object\n",
              "temperature     int64\n",
              "dtype: object"
            ]
          },
          "metadata": {
            "tags": []
          },
          "execution_count": 30
        }
      ]
    },
    {
      "cell_type": "code",
      "metadata": {
        "id": "nSqlPDdvUZLv",
        "colab_type": "code",
        "outputId": "acbcc1df-3112-4f0e-be4a-a706d73be50c",
        "colab": {
          "base_uri": "https://localhost:8080/",
          "height": 195
        }
      },
      "source": [
        "wind.merge(temp[[\"UNIX\", \"temperature\"]], on=\"UNIX\").head()"
      ],
      "execution_count": 0,
      "outputs": [
        {
          "output_type": "execute_result",
          "data": {
            "text/html": [
              "<div>\n",
              "<style scoped>\n",
              "    .dataframe tbody tr th:only-of-type {\n",
              "        vertical-align: middle;\n",
              "    }\n",
              "\n",
              "    .dataframe tbody tr th {\n",
              "        vertical-align: top;\n",
              "    }\n",
              "\n",
              "    .dataframe thead th {\n",
              "        text-align: right;\n",
              "    }\n",
              "</style>\n",
              "<table border=\"1\" class=\"dataframe\">\n",
              "  <thead>\n",
              "    <tr style=\"text-align: right;\">\n",
              "      <th></th>\n",
              "      <th>row</th>\n",
              "      <th>UNIX</th>\n",
              "      <th>date</th>\n",
              "      <th>time</th>\n",
              "      <th>speed</th>\n",
              "      <th>temperature</th>\n",
              "    </tr>\n",
              "  </thead>\n",
              "  <tbody>\n",
              "    <tr>\n",
              "      <th>0</th>\n",
              "      <td>1</td>\n",
              "      <td>1475315718</td>\n",
              "      <td>2016-09-30</td>\n",
              "      <td>23:55:18</td>\n",
              "      <td>7.87</td>\n",
              "      <td>48</td>\n",
              "    </tr>\n",
              "    <tr>\n",
              "      <th>1</th>\n",
              "      <td>2</td>\n",
              "      <td>1475315423</td>\n",
              "      <td>2016-09-30</td>\n",
              "      <td>23:50:23</td>\n",
              "      <td>7.87</td>\n",
              "      <td>48</td>\n",
              "    </tr>\n",
              "    <tr>\n",
              "      <th>2</th>\n",
              "      <td>3</td>\n",
              "      <td>1475315124</td>\n",
              "      <td>2016-09-30</td>\n",
              "      <td>23:45:24</td>\n",
              "      <td>9.00</td>\n",
              "      <td>48</td>\n",
              "    </tr>\n",
              "    <tr>\n",
              "      <th>3</th>\n",
              "      <td>4</td>\n",
              "      <td>1475314821</td>\n",
              "      <td>2016-09-30</td>\n",
              "      <td>23:40:21</td>\n",
              "      <td>13.50</td>\n",
              "      <td>48</td>\n",
              "    </tr>\n",
              "    <tr>\n",
              "      <th>4</th>\n",
              "      <td>5</td>\n",
              "      <td>1475314522</td>\n",
              "      <td>2016-09-30</td>\n",
              "      <td>23:35:22</td>\n",
              "      <td>15.75</td>\n",
              "      <td>48</td>\n",
              "    </tr>\n",
              "  </tbody>\n",
              "</table>\n",
              "</div>"
            ],
            "text/plain": [
              "   row        UNIX        date      time  speed  temperature\n",
              "0    1  1475315718  2016-09-30  23:55:18   7.87           48\n",
              "1    2  1475315423  2016-09-30  23:50:23   7.87           48\n",
              "2    3  1475315124  2016-09-30  23:45:24   9.00           48\n",
              "3    4  1475314821  2016-09-30  23:40:21  13.50           48\n",
              "4    5  1475314522  2016-09-30  23:35:22  15.75           48"
            ]
          },
          "metadata": {
            "tags": []
          },
          "execution_count": 31
        }
      ]
    },
    {
      "cell_type": "code",
      "metadata": {
        "id": "DC6fpQNgUclX",
        "colab_type": "code",
        "outputId": "caadbcb3-7cdc-4985-8567-f6872d65fbed",
        "colab": {
          "base_uri": "https://localhost:8080/",
          "height": 34
        }
      },
      "source": [
        "%%timeit\n",
        "wind.merge(temp[[\"UNIX\", \"temperature\"]], on=\"UNIX\")"
      ],
      "execution_count": 0,
      "outputs": [
        {
          "output_type": "stream",
          "text": [
            "100 loops, best of 3: 10.9 ms per loop\n"
          ],
          "name": "stdout"
        }
      ]
    },
    {
      "cell_type": "code",
      "metadata": {
        "id": "16YdV--NUhn5",
        "colab_type": "code",
        "outputId": "964e5f3b-3664-4075-e43e-2de326b69a81",
        "colab": {
          "base_uri": "https://localhost:8080/",
          "height": 195
        }
      },
      "source": [
        "pysqldf(\"\"\"SELECT w.row, w.UNIX, w.date, w.time,\n",
        "w.speed, t.temperature\n",
        "FROM wind AS w JOIN temp AS t\n",
        "ON w.UNIX = t.UNIX\n",
        "\"\"\").head()"
      ],
      "execution_count": 0,
      "outputs": [
        {
          "output_type": "execute_result",
          "data": {
            "text/html": [
              "<div>\n",
              "<style scoped>\n",
              "    .dataframe tbody tr th:only-of-type {\n",
              "        vertical-align: middle;\n",
              "    }\n",
              "\n",
              "    .dataframe tbody tr th {\n",
              "        vertical-align: top;\n",
              "    }\n",
              "\n",
              "    .dataframe thead th {\n",
              "        text-align: right;\n",
              "    }\n",
              "</style>\n",
              "<table border=\"1\" class=\"dataframe\">\n",
              "  <thead>\n",
              "    <tr style=\"text-align: right;\">\n",
              "      <th></th>\n",
              "      <th>row</th>\n",
              "      <th>UNIX</th>\n",
              "      <th>date</th>\n",
              "      <th>time</th>\n",
              "      <th>speed</th>\n",
              "      <th>temperature</th>\n",
              "    </tr>\n",
              "  </thead>\n",
              "  <tbody>\n",
              "    <tr>\n",
              "      <th>0</th>\n",
              "      <td>1</td>\n",
              "      <td>1475315718</td>\n",
              "      <td>2016-09-30</td>\n",
              "      <td>23:55:18</td>\n",
              "      <td>7.87</td>\n",
              "      <td>48</td>\n",
              "    </tr>\n",
              "    <tr>\n",
              "      <th>1</th>\n",
              "      <td>2</td>\n",
              "      <td>1475315423</td>\n",
              "      <td>2016-09-30</td>\n",
              "      <td>23:50:23</td>\n",
              "      <td>7.87</td>\n",
              "      <td>48</td>\n",
              "    </tr>\n",
              "    <tr>\n",
              "      <th>2</th>\n",
              "      <td>3</td>\n",
              "      <td>1475315124</td>\n",
              "      <td>2016-09-30</td>\n",
              "      <td>23:45:24</td>\n",
              "      <td>9.00</td>\n",
              "      <td>48</td>\n",
              "    </tr>\n",
              "    <tr>\n",
              "      <th>3</th>\n",
              "      <td>4</td>\n",
              "      <td>1475314821</td>\n",
              "      <td>2016-09-30</td>\n",
              "      <td>23:40:21</td>\n",
              "      <td>13.50</td>\n",
              "      <td>48</td>\n",
              "    </tr>\n",
              "    <tr>\n",
              "      <th>4</th>\n",
              "      <td>5</td>\n",
              "      <td>1475314522</td>\n",
              "      <td>2016-09-30</td>\n",
              "      <td>23:35:22</td>\n",
              "      <td>15.75</td>\n",
              "      <td>48</td>\n",
              "    </tr>\n",
              "  </tbody>\n",
              "</table>\n",
              "</div>"
            ],
            "text/plain": [
              "   row        UNIX        date      time  speed  temperature\n",
              "0    1  1475315718  2016-09-30  23:55:18   7.87           48\n",
              "1    2  1475315423  2016-09-30  23:50:23   7.87           48\n",
              "2    3  1475315124  2016-09-30  23:45:24   9.00           48\n",
              "3    4  1475314821  2016-09-30  23:40:21  13.50           48\n",
              "4    5  1475314522  2016-09-30  23:35:22  15.75           48"
            ]
          },
          "metadata": {
            "tags": []
          },
          "execution_count": 33
        }
      ]
    },
    {
      "cell_type": "code",
      "metadata": {
        "id": "tDNiYn5YUkxq",
        "colab_type": "code",
        "outputId": "1acb674a-eeb3-4760-ffeb-b8d99f539830",
        "colab": {
          "base_uri": "https://localhost:8080/",
          "height": 34
        }
      },
      "source": [
        "%%timeit\n",
        "pysqldf(\"\"\"SELECT w.row, w.UNIX, w.date, w.time,\n",
        "                  w.speed, t.temperature\n",
        "            FROM wind AS w JOIN temp AS t\n",
        "            ON w.UNIX = t.UNIX\n",
        "        \"\"\")"
      ],
      "execution_count": 0,
      "outputs": [
        {
          "output_type": "stream",
          "text": [
            "1 loop, best of 3: 505 ms per loop\n"
          ],
          "name": "stdout"
        }
      ]
    },
    {
      "cell_type": "code",
      "metadata": {
        "id": "xhQILsOYUrEM",
        "colab_type": "code",
        "outputId": "94e006bd-f460-4e90-d221-14c4043f1db0",
        "colab": {
          "base_uri": "https://localhost:8080/",
          "height": 134
        }
      },
      "source": [
        "wind.groupby(\"date\")[\"speed\"].mean().head()"
      ],
      "execution_count": 0,
      "outputs": [
        {
          "output_type": "execute_result",
          "data": {
            "text/plain": [
              "date\n",
              "2016-09-01    6.396560\n",
              "2016-09-02    5.804086\n",
              "2016-09-03    4.960248\n",
              "2016-09-04    5.184571\n",
              "2016-09-05    5.830676\n",
              "Name: speed, dtype: float64"
            ]
          },
          "metadata": {
            "tags": []
          },
          "execution_count": 36
        }
      ]
    },
    {
      "cell_type": "code",
      "metadata": {
        "id": "K4WgteAhVHDN",
        "colab_type": "code",
        "outputId": "b742eddb-db9c-4834-a38e-f1f11227ae4b",
        "colab": {
          "base_uri": "https://localhost:8080/",
          "height": 34
        }
      },
      "source": [
        "%%timeit\n",
        "wind.groupby(\"date\")[\"speed\"].mean()"
      ],
      "execution_count": 0,
      "outputs": [
        {
          "output_type": "stream",
          "text": [
            "100 loops, best of 3: 2.72 ms per loop\n"
          ],
          "name": "stdout"
        }
      ]
    },
    {
      "cell_type": "code",
      "metadata": {
        "id": "JaCWVyWbVIsU",
        "colab_type": "code",
        "outputId": "4897d711-a62e-45dd-bcbd-a935cb748ade",
        "colab": {
          "base_uri": "https://localhost:8080/",
          "height": 195
        }
      },
      "source": [
        "pysqldf(\"\"\"SELECT date, AVG(speed)\n",
        "FROM wind\n",
        "GROUP BY date\n",
        "\"\"\").head()"
      ],
      "execution_count": 0,
      "outputs": [
        {
          "output_type": "execute_result",
          "data": {
            "text/html": [
              "<div>\n",
              "<style scoped>\n",
              "    .dataframe tbody tr th:only-of-type {\n",
              "        vertical-align: middle;\n",
              "    }\n",
              "\n",
              "    .dataframe tbody tr th {\n",
              "        vertical-align: top;\n",
              "    }\n",
              "\n",
              "    .dataframe thead th {\n",
              "        text-align: right;\n",
              "    }\n",
              "</style>\n",
              "<table border=\"1\" class=\"dataframe\">\n",
              "  <thead>\n",
              "    <tr style=\"text-align: right;\">\n",
              "      <th></th>\n",
              "      <th>date</th>\n",
              "      <th>AVG(speed)</th>\n",
              "    </tr>\n",
              "  </thead>\n",
              "  <tbody>\n",
              "    <tr>\n",
              "      <th>0</th>\n",
              "      <td>2016-09-01</td>\n",
              "      <td>6.396560</td>\n",
              "    </tr>\n",
              "    <tr>\n",
              "      <th>1</th>\n",
              "      <td>2016-09-02</td>\n",
              "      <td>5.804086</td>\n",
              "    </tr>\n",
              "    <tr>\n",
              "      <th>2</th>\n",
              "      <td>2016-09-03</td>\n",
              "      <td>4.960248</td>\n",
              "    </tr>\n",
              "    <tr>\n",
              "      <th>3</th>\n",
              "      <td>2016-09-04</td>\n",
              "      <td>5.184571</td>\n",
              "    </tr>\n",
              "    <tr>\n",
              "      <th>4</th>\n",
              "      <td>2016-09-05</td>\n",
              "      <td>5.830676</td>\n",
              "    </tr>\n",
              "  </tbody>\n",
              "</table>\n",
              "</div>"
            ],
            "text/plain": [
              "         date  AVG(speed)\n",
              "0  2016-09-01    6.396560\n",
              "1  2016-09-02    5.804086\n",
              "2  2016-09-03    4.960248\n",
              "3  2016-09-04    5.184571\n",
              "4  2016-09-05    5.830676"
            ]
          },
          "metadata": {
            "tags": []
          },
          "execution_count": 38
        }
      ]
    },
    {
      "cell_type": "code",
      "metadata": {
        "id": "7w0-twZFVNJ0",
        "colab_type": "code",
        "outputId": "69597896-306a-4fb7-89e2-8b3f94eadf8c",
        "colab": {
          "base_uri": "https://localhost:8080/",
          "height": 34
        }
      },
      "source": [
        "%%timeit\n",
        "pysqldf(\"\"\"SELECT date, AVG(speed)\n",
        "FROM wind\n",
        "GROUP BY date\n",
        "\"\"\")"
      ],
      "execution_count": 0,
      "outputs": [
        {
          "output_type": "stream",
          "text": [
            "1 loop, best of 3: 202 ms per loop\n"
          ],
          "name": "stdout"
        }
      ]
    }
  ]
}