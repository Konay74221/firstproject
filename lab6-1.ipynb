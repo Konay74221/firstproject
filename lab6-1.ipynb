{
  "nbformat": 4,
  "nbformat_minor": 0,
  "metadata": {
    "colab": {
      "name": "Untitled64.ipynb",
      "provenance": [],
      "authorship_tag": "ABX9TyM8cPbIq4RF042uuzBncqHK",
      "include_colab_link": true
    },
    "kernelspec": {
      "name": "python3",
      "display_name": "Python 3"
    }
  },
  "cells": [
    {
      "cell_type": "markdown",
      "metadata": {
        "id": "view-in-github",
        "colab_type": "text"
      },
      "source": [
        "<a href=\"https://colab.research.google.com/github/ZawWin58/firstproject/blob/master/lab6-1.ipynb\" target=\"_parent\"><img src=\"https://colab.research.google.com/assets/colab-badge.svg\" alt=\"Open In Colab\"/></a>"
      ]
    },
    {
      "cell_type": "code",
      "metadata": {
        "id": "2ZG8ZHVfIRh2",
        "colab_type": "code",
        "outputId": "bdfe65a4-8f58-4a8d-d0a4-cceb89f3d8bb",
        "colab": {
          "base_uri": "https://localhost:8080/",
          "height": 34
        }
      },
      "source": [
        "%tensorflow_version 1.x"
      ],
      "execution_count": 0,
      "outputs": [
        {
          "output_type": "stream",
          "text": [
            "TensorFlow 1.x selected.\n"
          ],
          "name": "stdout"
        }
      ]
    },
    {
      "cell_type": "code",
      "metadata": {
        "id": "KCYQ5bYyIVy9",
        "colab_type": "code",
        "colab": {}
      },
      "source": [
        "import numpy as np\n",
        "import random\n",
        "import math\n",
        "import tensorflow as tf\n",
        "import matplotlib.pyplot as plt"
      ],
      "execution_count": 0,
      "outputs": []
    },
    {
      "cell_type": "code",
      "metadata": {
        "id": "JlGo7lmPIZ7f",
        "colab_type": "code",
        "colab": {}
      },
      "source": [
        "\n",
        "def generate_x_y_data_v1(isTrain, batch_size):\n",
        "    seq_length = 10\n",
        "    \n",
        "    batch_x = []\n",
        "    batch_y = []\n",
        "    for _ in range(batch_size): \n",
        "        # Одна итерация цикла генерирует 1 пакет данных \n",
        "        rand = random.random() * 2 * math.pi\n",
        "        \n",
        "        # Генерируем набор данных по заданному закону\n",
        "        # генерирует набор точек, равномерно распредленных по заданному интервалу \n",
        "        # (границы интервала смещены на случайную величину)\n",
        "        sig1 = np.sin(np.linspace(0.0 * math.pi + rand , 3.0 * math.pi + rand , seq_length * 2))\n",
        "        sig2 = np.cos(np.linspace(0.0 * math.pi + rand , 3.0 * math.pi + rand , seq_length * 2))\n",
        "        \n",
        "        # первую половину сигналов берем на обучающую выборку, вторую - на контрольную\n",
        "        x1 = sig1[:seq_length]\n",
        "        y1 = sig1[seq_length:]\n",
        "        x2 = sig2[:seq_length]\n",
        "        y2 = sig2[seq_length:]\n",
        "        \n",
        "        x_ = np.array([x1, x2])\n",
        "        y_ = np.array([y1, y2])\n",
        "        x_, y_ = x_.T, y_.T\n",
        "    \n",
        "        batch_x.append(x_)\n",
        "        batch_y.append(y_)\n",
        "    \n",
        "    batch_x = np.array(batch_x)\n",
        "    batch_y = np.array(batch_y) \n",
        "    # размерность: (batch_size , seq_length , output_dim)\n",
        "    # транспонируем, чтобы привести к нужной размерности\n",
        "    batch_x = np.array(batch_x).transpose((1, 0, 2))\n",
        "    batch_y = np.array(batch_y).transpose((1, 0, 2)) \n",
        "    # размерность: (seq_length , batch_size , output_dim)\n",
        "    \n",
        "    return batch_x , batch_y"
      ],
      "execution_count": 0,
      "outputs": []
    },
    {
      "cell_type": "code",
      "metadata": {
        "id": "4g1cbdbxIe4O",
        "colab_type": "code",
        "colab": {}
      },
      "source": [
        "\n",
        "# Данные имеют размерность (seq_length , batch_size , output_dim) \n",
        "sample_x , sample_y = generate_x_y_data_v1(isTrain=True , batch_size=3)\n",
        "\n",
        "# Длина последовательности (в данных примерах одинаковая для обучающих и тестовых данных)\n",
        "seq_length = sample_x.shape[0] \n",
        "\n",
        "# Размер пакета количество(тестовых примеров), по которому усредняется градиент\n",
        "batch_size = 5\n",
        "# Размерность выходных данных \n",
        "output_dim = input_dim = sample_x.shape[-1]\n",
        "# Количество скрытых нейронов в каждой ячейке\n",
        "hidden_dim = 12\n",
        "# Количество ячеек рекуррентной сети (в глубину)\n",
        "layers_stacked_count = 2\n",
        "\n",
        "# Параметры оптимизатора \n",
        "# Скорость обучения маленькая (скорость обучения позволяет алгоритму не расходиться во время обучения)\n",
        "learning_rate = 0.05\n",
        "# Количество итераций по обучающей выборке \n",
        "nb_iters = 2000\n",
        "# Дополнительные параметры алгоритма оптимизации\n",
        "lr_decay = 0.8\n",
        "momentum = 0.3\n",
        "# Коэффициент L2 регуляризации\n",
        "lambda_l2_reg = 0.003"
      ],
      "execution_count": 0,
      "outputs": []
    },
    {
      "cell_type": "code",
      "metadata": {
        "id": "Z_cnmZLhIiJY",
        "colab_type": "code",
        "outputId": "aacc69dd-4690-4b7a-b387-cef04f8fa563",
        "colab": {
          "base_uri": "https://localhost:8080/",
          "height": 151
        }
      },
      "source": [
        "\n",
        "tf.nn.seq2seq = tf.contrib.legacy_seq2seq\n",
        "tf.nn.rnn_cell = tf.contrib.rnn\n",
        "tf.nn.rnn_cell.GRUCell = tf.contrib.rnn.GRUCell"
      ],
      "execution_count": 0,
      "outputs": [
        {
          "output_type": "stream",
          "text": [
            "WARNING:tensorflow:\n",
            "The TensorFlow contrib module will not be included in TensorFlow 2.0.\n",
            "For more information, please see:\n",
            "  * https://github.com/tensorflow/community/blob/master/rfcs/20180907-contrib-sunset.md\n",
            "  * https://github.com/tensorflow/addons\n",
            "  * https://github.com/tensorflow/io (for I/O related ops)\n",
            "If you depend on functionality not listed there, please file an issue.\n",
            "\n"
          ],
          "name": "stdout"
        }
      ]
    },
    {
      "cell_type": "code",
      "metadata": {
        "id": "nAsYKqHyIk7G",
        "colab_type": "code",
        "colab": {}
      },
      "source": [
        "tf.reset_default_graph()\n",
        "# интерактивная сессия\n",
        "sess = tf.InteractiveSession()"
      ],
      "execution_count": 0,
      "outputs": []
    },
    {
      "cell_type": "code",
      "metadata": {
        "id": "Am9_gG_fInt-",
        "colab_type": "code",
        "outputId": "12a3a8ee-e940-4ff3-f931-b668576e40af",
        "colab": {
          "base_uri": "https://localhost:8080/",
          "height": 339
        }
      },
      "source": [
        "with tf.variable_scope('Seq2seq'):\n",
        "    enc_inp = [\n",
        "        tf.placeholder(tf.float32, shape=(None, input_dim), name=\"inp_{}\".format(t))\n",
        "            for t in range(seq_length)\n",
        "    ]\n",
        "\n",
        "    expected_sparse_output = [\n",
        "        tf.placeholder(tf.float32 , shape=(None , output_dim), name=\"expected_sparse_output_\".format(t))\n",
        "            for t in range(seq_length)\n",
        "    ]\n",
        "    \n",
        "    dec_inp = [ tf.zeros_like(enc_inp[0], dtype=np.float32 , name=\"GO\") ] + enc_inp[:-1]\n",
        "    \n",
        "    cells = []\n",
        "    for i in range(layers_stacked_count):\n",
        "        with tf.variable_scope('RNN_{}'.format(i)):\n",
        "            cells.append(tf.nn.rnn_cell.GRUCell(hidden_dim))\n",
        "            \n",
        "    cell = tf.nn.rnn_cell.MultiRNNCell(cells)\n",
        "    \n",
        "    w_in = tf.Variable(tf.random_normal([input_dim , hidden_dim]))\n",
        "    b_in = tf.Variable(tf.random_normal([hidden_dim], mean=1.0))\n",
        "    w_out = tf.Variable(tf.random_normal([hidden_dim , output_dim]))\n",
        "    b_out = tf.Variable(tf.random_normal([output_dim]))\n",
        "\n",
        "    reshaped_inputs = [tf.nn.relu(tf.matmul(i, w_in) + b_in) for i in enc_inp]\n",
        "    \n",
        "    dec_outputs, dec_memory = tf.nn.seq2seq.basic_rnn_seq2seq(enc_inp, dec_inp, cell)\n",
        "    \n",
        "    output_scale_factor = tf.Variable(1.0, name=\"Output_ScaleFactor\")\n",
        "    reshaped_outputs = [output_scale_factor * (tf.matmul(i, w_out) + b_out) for i in dec_outputs]"
      ],
      "execution_count": 0,
      "outputs": [
        {
          "output_type": "stream",
          "text": [
            "WARNING:tensorflow:From <ipython-input-7-a9e263b0cf24>:17: GRUCell.__init__ (from tensorflow.python.ops.rnn_cell_impl) is deprecated and will be removed in a future version.\n",
            "Instructions for updating:\n",
            "This class is equivalent as tf.keras.layers.GRUCell, and will be replaced by that in Tensorflow 2.0.\n",
            "WARNING:tensorflow:From <ipython-input-7-a9e263b0cf24>:19: MultiRNNCell.__init__ (from tensorflow.python.ops.rnn_cell_impl) is deprecated and will be removed in a future version.\n",
            "Instructions for updating:\n",
            "This class is equivalent as tf.keras.layers.StackedRNNCells, and will be replaced by that in Tensorflow 2.0.\n",
            "WARNING:tensorflow:From /tensorflow-1.15.2/python3.6/tensorflow_core/contrib/legacy_seq2seq/python/ops/seq2seq.py:186: static_rnn (from tensorflow.python.ops.rnn) is deprecated and will be removed in a future version.\n",
            "Instructions for updating:\n",
            "Please use `keras.layers.RNN(cell, unroll=True)`, which is equivalent to this API\n",
            "WARNING:tensorflow:From /tensorflow-1.15.2/python3.6/tensorflow_core/python/ops/rnn_cell_impl.py:559: Layer.add_variable (from tensorflow.python.keras.engine.base_layer) is deprecated and will be removed in a future version.\n",
            "Instructions for updating:\n",
            "Please use `layer.add_weight` method instead.\n",
            "WARNING:tensorflow:From /tensorflow-1.15.2/python3.6/tensorflow_core/python/ops/rnn_cell_impl.py:565: calling Constant.__init__ (from tensorflow.python.ops.init_ops) with dtype is deprecated and will be removed in a future version.\n",
            "Instructions for updating:\n",
            "Call initializer instance with the dtype argument instead of passing it to the constructor\n",
            "WARNING:tensorflow:From /tensorflow-1.15.2/python3.6/tensorflow_core/python/ops/rnn_cell_impl.py:575: calling Zeros.__init__ (from tensorflow.python.ops.init_ops) with dtype is deprecated and will be removed in a future version.\n",
            "Instructions for updating:\n",
            "Call initializer instance with the dtype argument instead of passing it to the constructor\n"
          ],
          "name": "stdout"
        }
      ]
    },
    {
      "cell_type": "code",
      "metadata": {
        "id": "Gi9gLMxDIrhq",
        "colab_type": "code",
        "colab": {}
      },
      "source": [
        "\n",
        "with tf.variable_scope('Loss'):\n",
        "    # L2 loss\n",
        "    output_loss = 0\n",
        "    for _y, _Y in zip(reshaped_outputs, expected_sparse_output):\n",
        "        output_loss += tf.reduce_mean(tf.nn.l2_loss(_y - _Y))\n",
        "\n",
        "    # слагаемое, отвечающее за L2 регуляризацию\n",
        "    reg_loss = 0\n",
        "    for tf_var in tf.trainable_variables():\n",
        "        if not (\"Bias\" in tf_var.name or \"Output_\" in tf_var.name):\n",
        "            reg_loss += tf.reduce_mean(tf.nn.l2_loss(tf_var))\n",
        "\n",
        "    loss = output_loss  + lambda_l2_reg * reg_loss"
      ],
      "execution_count": 0,
      "outputs": []
    },
    {
      "cell_type": "code",
      "metadata": {
        "id": "4cOMZJ3-Ivn2",
        "colab_type": "code",
        "outputId": "2e2c8071-37c5-4ad5-bb86-612d69425cf3",
        "colab": {
          "base_uri": "https://localhost:8080/",
          "height": 87
        }
      },
      "source": [
        "\n",
        "with tf.variable_scope('Optimizer'):\n",
        "    optimizer = tf.train.RMSPropOptimizer(learning_rate, decay=lr_decay, momentum=momentum)\n",
        "    train_op = optimizer.minimize(loss)"
      ],
      "execution_count": 0,
      "outputs": [
        {
          "output_type": "stream",
          "text": [
            "WARNING:tensorflow:From /tensorflow-1.15.2/python3.6/tensorflow_core/python/training/rmsprop.py:119: calling Ones.__init__ (from tensorflow.python.ops.init_ops) with dtype is deprecated and will be removed in a future version.\n",
            "Instructions for updating:\n",
            "Call initializer instance with the dtype argument instead of passing it to the constructor\n"
          ],
          "name": "stdout"
        }
      ]
    },
    {
      "cell_type": "code",
      "metadata": {
        "id": "SZQ-C6MTIzNK",
        "colab_type": "code",
        "colab": {}
      },
      "source": [
        "\n",
        "# Шаг обучения, который оптимизирует веса в соответствии с переданным минипакетом-примеров\n",
        "def train_batch(batch_size):\n",
        "    X, Y = generate_x_y_data_v1(isTrain=True , batch_size=batch_size)\n",
        "    feed_dict = {enc_inp[t]: X[t] for t in range(len(enc_inp))} \n",
        "    feed_dict.update({expected_sparse_output[t]: Y[t] for t in range(len(expected_sparse_output))}) \n",
        "    #  запускаем сессию. При этом рассчитываются тензоры, указанные в первом параметре, \n",
        "    # а значения для них берутся из второго параметра\n",
        "    _, loss_t = sess.run([train_op , loss], feed_dict)\n",
        "    \n",
        "    return loss_t"
      ],
      "execution_count": 0,
      "outputs": []
    },
    {
      "cell_type": "code",
      "metadata": {
        "id": "bWY3MCizI18I",
        "colab_type": "code",
        "outputId": "e200b37f-23f2-4ee3-eaee-8b76f9385f37",
        "colab": {
          "base_uri": "https://localhost:8080/",
          "height": 1000
        }
      },
      "source": [
        "# Тестовый прогон. Веса не обновляются благодаря тому, что переменная train_op не передается в sess.run\n",
        "def test_batch(batch_size, graph=False): \n",
        "    X, Y = generate_x_y_data_v1(isTrain=False, batch_size=batch_size)\n",
        "    feed_dict = {enc_inp[t]: X[t] for t in range(len(enc_inp))}\n",
        "    feed_dict.update({expected_sparse_output[t]: Y[t] for t in range(len(expected_sparse_output))}) \n",
        "    loss_t = sess.run([loss], feed_dict)\n",
        "    \n",
        "    return loss_t[0]\n",
        "\n",
        "train_losses = []\n",
        "test_losses = []\n",
        "sess.run(tf.global_variables_initializer())\n",
        "\n",
        "#nb_iters - количество шагов для обучения. После каждых 10 шагов проверяется ошибка на тестовой выборке\n",
        "\n",
        "for t in range(nb_iters+1):\n",
        "    train_loss = train_batch(batch_size)\n",
        "    train_losses.append(train_loss)\n",
        "\n",
        "    if t % 10 == 0:\n",
        "        test_loss = test_batch(batch_size, t==nb_iters)\n",
        "        test_losses.append(test_loss)\n",
        "        print(\"Step {}/{}, train loss: {}, \\tTEST loss: {}\".format(t, nb_iters , train_loss , test_loss))\n",
        "\n",
        "print(\"Final:. train loss: {}, \\tTEST loss: {}\".format(train_loss , test_loss))"
      ],
      "execution_count": 0,
      "outputs": [
        {
          "output_type": "stream",
          "text": [
            "Step 0/2000, train loss: 88.07365417480469, \tTEST loss: 18.17275619506836\n",
            "Step 10/2000, train loss: 2.559277057647705, \tTEST loss: 1.7502747774124146\n",
            "Step 20/2000, train loss: 3.0241801738739014, \tTEST loss: 2.689713954925537\n",
            "Step 30/2000, train loss: 2.8200697898864746, \tTEST loss: 4.6421098709106445\n",
            "Step 40/2000, train loss: 1.2291123867034912, \tTEST loss: 3.8620283603668213\n",
            "Step 50/2000, train loss: 3.902601480484009, \tTEST loss: 6.4031829833984375\n",
            "Step 60/2000, train loss: 1.686523675918579, \tTEST loss: 1.148369550704956\n",
            "Step 70/2000, train loss: 2.127986192703247, \tTEST loss: 2.162260055541992\n",
            "Step 80/2000, train loss: 2.251204013824463, \tTEST loss: 2.5772624015808105\n",
            "Step 90/2000, train loss: 1.5584195852279663, \tTEST loss: 0.9852042198181152\n",
            "Step 100/2000, train loss: 2.3705461025238037, \tTEST loss: 1.2968069314956665\n",
            "Step 110/2000, train loss: 0.6793299317359924, \tTEST loss: 1.776597023010254\n",
            "Step 120/2000, train loss: 1.1902598142623901, \tTEST loss: 1.7466500997543335\n",
            "Step 130/2000, train loss: 0.7688660621643066, \tTEST loss: 2.609973192214966\n",
            "Step 140/2000, train loss: 1.2945613861083984, \tTEST loss: 1.3093743324279785\n",
            "Step 150/2000, train loss: 2.7899434566497803, \tTEST loss: 3.4970760345458984\n",
            "Step 160/2000, train loss: 0.9290168285369873, \tTEST loss: 1.3841619491577148\n",
            "Step 170/2000, train loss: 1.846973180770874, \tTEST loss: 1.5283266305923462\n",
            "Step 180/2000, train loss: 0.6601330637931824, \tTEST loss: 1.6856794357299805\n",
            "Step 190/2000, train loss: 2.636415958404541, \tTEST loss: 0.72220778465271\n",
            "Step 200/2000, train loss: 0.8891855478286743, \tTEST loss: 0.9255266189575195\n",
            "Step 210/2000, train loss: 0.932709813117981, \tTEST loss: 0.6733852028846741\n",
            "Step 220/2000, train loss: 0.7178865075111389, \tTEST loss: 0.8220086097717285\n",
            "Step 230/2000, train loss: 1.1702131032943726, \tTEST loss: 1.2186532020568848\n",
            "Step 240/2000, train loss: 0.9044805765151978, \tTEST loss: 0.9141669273376465\n",
            "Step 250/2000, train loss: 1.0980719327926636, \tTEST loss: 1.0307610034942627\n",
            "Step 260/2000, train loss: 1.5837061405181885, \tTEST loss: 2.305361032485962\n",
            "Step 270/2000, train loss: 0.5727892518043518, \tTEST loss: 0.5309820175170898\n",
            "Step 280/2000, train loss: 1.154284119606018, \tTEST loss: 0.9485546350479126\n",
            "Step 290/2000, train loss: 1.3575799465179443, \tTEST loss: 0.8637096881866455\n",
            "Step 300/2000, train loss: 0.7727996110916138, \tTEST loss: 0.7288402318954468\n",
            "Step 310/2000, train loss: 1.1457819938659668, \tTEST loss: 1.333622694015503\n",
            "Step 320/2000, train loss: 0.997123122215271, \tTEST loss: 1.3462761640548706\n",
            "Step 330/2000, train loss: 1.3106951713562012, \tTEST loss: 0.6434003710746765\n",
            "Step 340/2000, train loss: 1.478694200515747, \tTEST loss: 1.0893652439117432\n",
            "Step 350/2000, train loss: 0.6140296459197998, \tTEST loss: 0.7535583972930908\n",
            "Step 360/2000, train loss: 1.9440292119979858, \tTEST loss: 1.1889523267745972\n",
            "Step 370/2000, train loss: 0.3626505136489868, \tTEST loss: 0.3268173336982727\n",
            "Step 380/2000, train loss: 0.8723476529121399, \tTEST loss: 0.7191050052642822\n",
            "Step 390/2000, train loss: 0.802638590335846, \tTEST loss: 0.7342461347579956\n",
            "Step 400/2000, train loss: 1.1338841915130615, \tTEST loss: 0.6643136143684387\n",
            "Step 410/2000, train loss: 1.8267385959625244, \tTEST loss: 0.7112123370170593\n",
            "Step 420/2000, train loss: 0.6926248073577881, \tTEST loss: 0.613980233669281\n",
            "Step 430/2000, train loss: 1.6581432819366455, \tTEST loss: 2.709712266921997\n",
            "Step 440/2000, train loss: 0.37623536586761475, \tTEST loss: 0.6317956447601318\n",
            "Step 450/2000, train loss: 0.5448758602142334, \tTEST loss: 0.8870761394500732\n",
            "Step 460/2000, train loss: 0.5942930579185486, \tTEST loss: 0.7856646776199341\n",
            "Step 470/2000, train loss: 0.3907160460948944, \tTEST loss: 0.48260027170181274\n",
            "Step 480/2000, train loss: 0.5781274437904358, \tTEST loss: 0.3435196280479431\n",
            "Step 490/2000, train loss: 0.3436819016933441, \tTEST loss: 0.31251391768455505\n",
            "Step 500/2000, train loss: 0.45576173067092896, \tTEST loss: 0.4149892032146454\n",
            "Step 510/2000, train loss: 0.6339222192764282, \tTEST loss: 0.7741948962211609\n",
            "Step 520/2000, train loss: 0.314256489276886, \tTEST loss: 0.5665069222450256\n",
            "Step 530/2000, train loss: 0.5646399259567261, \tTEST loss: 0.8799667358398438\n",
            "Step 540/2000, train loss: 0.4446165859699249, \tTEST loss: 0.5042960047721863\n",
            "Step 550/2000, train loss: 0.5363281965255737, \tTEST loss: 0.3635636866092682\n",
            "Step 560/2000, train loss: 0.9650633335113525, \tTEST loss: 0.9599452614784241\n",
            "Step 570/2000, train loss: 0.33243802189826965, \tTEST loss: 0.4552178978919983\n",
            "Step 580/2000, train loss: 0.6532539129257202, \tTEST loss: 0.5846425294876099\n",
            "Step 590/2000, train loss: 0.512463390827179, \tTEST loss: 0.5549683570861816\n",
            "Step 600/2000, train loss: 0.6341075897216797, \tTEST loss: 1.0329989194869995\n",
            "Step 610/2000, train loss: 0.3127387762069702, \tTEST loss: 0.29654812812805176\n",
            "Step 620/2000, train loss: 0.7108533978462219, \tTEST loss: 0.48748862743377686\n",
            "Step 630/2000, train loss: 0.8767473697662354, \tTEST loss: 0.7186102867126465\n",
            "Step 640/2000, train loss: 0.321419358253479, \tTEST loss: 0.673162043094635\n",
            "Step 650/2000, train loss: 1.3128025531768799, \tTEST loss: 0.9956276416778564\n",
            "Step 660/2000, train loss: 0.4437927007675171, \tTEST loss: 0.5266848802566528\n",
            "Step 670/2000, train loss: 0.5552416443824768, \tTEST loss: 0.5978731513023376\n",
            "Step 680/2000, train loss: 0.5513283610343933, \tTEST loss: 0.9367035031318665\n",
            "Step 690/2000, train loss: 1.0868878364562988, \tTEST loss: 0.7756004333496094\n",
            "Step 700/2000, train loss: 0.9699913263320923, \tTEST loss: 0.5552457571029663\n",
            "Step 710/2000, train loss: 0.37468308210372925, \tTEST loss: 0.37676382064819336\n",
            "Step 720/2000, train loss: 0.5834959149360657, \tTEST loss: 0.5349869728088379\n",
            "Step 730/2000, train loss: 0.3333190083503723, \tTEST loss: 0.47777068614959717\n",
            "Step 740/2000, train loss: 0.5810449123382568, \tTEST loss: 0.48886018991470337\n",
            "Step 750/2000, train loss: 0.5389978289604187, \tTEST loss: 0.7349976301193237\n",
            "Step 760/2000, train loss: 0.3586162030696869, \tTEST loss: 0.3976243734359741\n",
            "Step 770/2000, train loss: 0.5658329725265503, \tTEST loss: 0.8032734394073486\n",
            "Step 780/2000, train loss: 0.33480435609817505, \tTEST loss: 0.38506120443344116\n",
            "Step 790/2000, train loss: 1.2539856433868408, \tTEST loss: 1.4677700996398926\n",
            "Step 800/2000, train loss: 0.5647358894348145, \tTEST loss: 0.7619810104370117\n",
            "Step 810/2000, train loss: 0.468181312084198, \tTEST loss: 0.5943029522895813\n",
            "Step 820/2000, train loss: 1.0804150104522705, \tTEST loss: 0.5194442868232727\n",
            "Step 830/2000, train loss: 0.7114928960800171, \tTEST loss: 0.9769225120544434\n",
            "Step 840/2000, train loss: 0.5133242011070251, \tTEST loss: 0.6173766255378723\n",
            "Step 850/2000, train loss: 0.6588385701179504, \tTEST loss: 0.820135772228241\n",
            "Step 860/2000, train loss: 0.5643492937088013, \tTEST loss: 0.9620537757873535\n",
            "Step 870/2000, train loss: 0.41267383098602295, \tTEST loss: 0.5862776637077332\n",
            "Step 880/2000, train loss: 1.3150660991668701, \tTEST loss: 0.5837752819061279\n",
            "Step 890/2000, train loss: 0.6530854105949402, \tTEST loss: 0.6105440258979797\n",
            "Step 900/2000, train loss: 0.7684547305107117, \tTEST loss: 0.4859060049057007\n",
            "Step 910/2000, train loss: 0.8494492173194885, \tTEST loss: 0.4924767315387726\n",
            "Step 920/2000, train loss: 0.4975818693637848, \tTEST loss: 0.7416589856147766\n",
            "Step 930/2000, train loss: 0.7797448039054871, \tTEST loss: 0.9036766290664673\n",
            "Step 940/2000, train loss: 0.7337020635604858, \tTEST loss: 1.1561203002929688\n",
            "Step 950/2000, train loss: 0.388001412153244, \tTEST loss: 0.560103714466095\n",
            "Step 960/2000, train loss: 0.8316617012023926, \tTEST loss: 0.8367574214935303\n",
            "Step 970/2000, train loss: 1.348217487335205, \tTEST loss: 0.8552643060684204\n",
            "Step 980/2000, train loss: 0.44390472769737244, \tTEST loss: 0.8209801912307739\n",
            "Step 990/2000, train loss: 0.3877282440662384, \tTEST loss: 0.5235058069229126\n",
            "Step 1000/2000, train loss: 0.3301878571510315, \tTEST loss: 0.46290674805641174\n",
            "Step 1010/2000, train loss: 0.45324277877807617, \tTEST loss: 0.5025373697280884\n",
            "Step 1020/2000, train loss: 0.8306528329849243, \tTEST loss: 1.193039894104004\n",
            "Step 1030/2000, train loss: 0.4296816289424896, \tTEST loss: 0.5842286944389343\n",
            "Step 1040/2000, train loss: 0.5215156078338623, \tTEST loss: 1.2549728155136108\n",
            "Step 1050/2000, train loss: 0.4626311659812927, \tTEST loss: 0.5885307788848877\n",
            "Step 1060/2000, train loss: 0.5048558115959167, \tTEST loss: 0.5336893796920776\n",
            "Step 1070/2000, train loss: 0.6159850358963013, \tTEST loss: 0.5503129959106445\n",
            "Step 1080/2000, train loss: 0.7507854700088501, \tTEST loss: 1.2804533243179321\n",
            "Step 1090/2000, train loss: 0.420254647731781, \tTEST loss: 0.465814471244812\n",
            "Step 1100/2000, train loss: 0.738714873790741, \tTEST loss: 0.8045045137405396\n",
            "Step 1110/2000, train loss: 0.4121161103248596, \tTEST loss: 0.4598407745361328\n",
            "Step 1120/2000, train loss: 0.738932192325592, \tTEST loss: 1.0574856996536255\n",
            "Step 1130/2000, train loss: 0.9085516333580017, \tTEST loss: 0.6361576318740845\n",
            "Step 1140/2000, train loss: 0.3226693272590637, \tTEST loss: 0.2888774573802948\n",
            "Step 1150/2000, train loss: 0.9159927368164062, \tTEST loss: 0.5521245002746582\n",
            "Step 1160/2000, train loss: 0.5066932439804077, \tTEST loss: 0.497692346572876\n",
            "Step 1170/2000, train loss: 0.3116697669029236, \tTEST loss: 0.2867623567581177\n",
            "Step 1180/2000, train loss: 0.4678962826728821, \tTEST loss: 0.6866618394851685\n",
            "Step 1190/2000, train loss: 0.5880334377288818, \tTEST loss: 0.7241546511650085\n",
            "Step 1200/2000, train loss: 0.37163233757019043, \tTEST loss: 0.681572675704956\n",
            "Step 1210/2000, train loss: 0.9768199324607849, \tTEST loss: 0.868698239326477\n",
            "Step 1220/2000, train loss: 0.544130265712738, \tTEST loss: 0.5855692625045776\n",
            "Step 1230/2000, train loss: 0.67778480052948, \tTEST loss: 0.821523129940033\n",
            "Step 1240/2000, train loss: 0.6164359450340271, \tTEST loss: 0.8146786093711853\n",
            "Step 1250/2000, train loss: 0.9805325269699097, \tTEST loss: 0.7477664947509766\n",
            "Step 1260/2000, train loss: 0.2657310962677002, \tTEST loss: 0.266165554523468\n",
            "Step 1270/2000, train loss: 0.5712971687316895, \tTEST loss: 0.6671946048736572\n",
            "Step 1280/2000, train loss: 1.0397329330444336, \tTEST loss: 0.7962797284126282\n",
            "Step 1290/2000, train loss: 0.7402187585830688, \tTEST loss: 0.7259234189987183\n",
            "Step 1300/2000, train loss: 0.6741249561309814, \tTEST loss: 0.5906161069869995\n",
            "Step 1310/2000, train loss: 0.6198171973228455, \tTEST loss: 0.34464287757873535\n",
            "Step 1320/2000, train loss: 0.8731542229652405, \tTEST loss: 0.6150013208389282\n",
            "Step 1330/2000, train loss: 0.6151477694511414, \tTEST loss: 0.6338228583335876\n",
            "Step 1340/2000, train loss: 0.8481965661048889, \tTEST loss: 1.2902730703353882\n",
            "Step 1350/2000, train loss: 0.44175398349761963, \tTEST loss: 0.38446855545043945\n",
            "Step 1360/2000, train loss: 0.8025861978530884, \tTEST loss: 0.8167122602462769\n",
            "Step 1370/2000, train loss: 0.4442004859447479, \tTEST loss: 0.7196328639984131\n",
            "Step 1380/2000, train loss: 0.3733307421207428, \tTEST loss: 0.35354083776474\n",
            "Step 1390/2000, train loss: 0.48892635107040405, \tTEST loss: 0.6377766132354736\n",
            "Step 1400/2000, train loss: 0.4244602620601654, \tTEST loss: 0.6212575435638428\n",
            "Step 1410/2000, train loss: 0.8181760311126709, \tTEST loss: 0.7909820079803467\n",
            "Step 1420/2000, train loss: 0.5696014165878296, \tTEST loss: 0.903878390789032\n",
            "Step 1430/2000, train loss: 0.5827353000640869, \tTEST loss: 1.1202787160873413\n",
            "Step 1440/2000, train loss: 0.4998408854007721, \tTEST loss: 0.8280092477798462\n",
            "Step 1450/2000, train loss: 0.7252248525619507, \tTEST loss: 0.641995370388031\n",
            "Step 1460/2000, train loss: 0.5299677848815918, \tTEST loss: 0.4448682367801666\n",
            "Step 1470/2000, train loss: 1.3029825687408447, \tTEST loss: 1.3198517560958862\n",
            "Step 1480/2000, train loss: 0.5171437859535217, \tTEST loss: 0.3470824062824249\n",
            "Step 1490/2000, train loss: 0.9639512896537781, \tTEST loss: 1.310778021812439\n",
            "Step 1500/2000, train loss: 0.6164041757583618, \tTEST loss: 0.6676384210586548\n",
            "Step 1510/2000, train loss: 0.5040174722671509, \tTEST loss: 0.6077747941017151\n",
            "Step 1520/2000, train loss: 0.6567758321762085, \tTEST loss: 0.5748661756515503\n",
            "Step 1530/2000, train loss: 0.746512770652771, \tTEST loss: 0.6165085434913635\n",
            "Step 1540/2000, train loss: 0.5471909642219543, \tTEST loss: 0.5616626739501953\n",
            "Step 1550/2000, train loss: 0.5077090263366699, \tTEST loss: 0.6390076279640198\n",
            "Step 1560/2000, train loss: 0.516390860080719, \tTEST loss: 0.48970353603363037\n",
            "Step 1570/2000, train loss: 0.6421724557876587, \tTEST loss: 0.4794684648513794\n",
            "Step 1580/2000, train loss: 0.3674957752227783, \tTEST loss: 0.7692725658416748\n",
            "Step 1590/2000, train loss: 0.5821439027786255, \tTEST loss: 0.2926073968410492\n",
            "Step 1600/2000, train loss: 0.4922104477882385, \tTEST loss: 0.5807585716247559\n",
            "Step 1610/2000, train loss: 0.44420966506004333, \tTEST loss: 0.4184291362762451\n",
            "Step 1620/2000, train loss: 0.8244080543518066, \tTEST loss: 1.631582498550415\n",
            "Step 1630/2000, train loss: 0.3735198974609375, \tTEST loss: 0.4623335301876068\n",
            "Step 1640/2000, train loss: 1.2235705852508545, \tTEST loss: 0.8767204880714417\n",
            "Step 1650/2000, train loss: 0.2927023768424988, \tTEST loss: 0.44854143261909485\n",
            "Step 1660/2000, train loss: 0.4945300221443176, \tTEST loss: 0.3859315514564514\n",
            "Step 1670/2000, train loss: 0.45670661330223083, \tTEST loss: 0.6184630393981934\n",
            "Step 1680/2000, train loss: 0.7337935566902161, \tTEST loss: 0.6366289258003235\n",
            "Step 1690/2000, train loss: 1.040053367614746, \tTEST loss: 0.7952415943145752\n",
            "Step 1700/2000, train loss: 1.1320786476135254, \tTEST loss: 0.8207615613937378\n",
            "Step 1710/2000, train loss: 0.3338150680065155, \tTEST loss: 0.396163672208786\n",
            "Step 1720/2000, train loss: 1.0491050481796265, \tTEST loss: 0.6354840397834778\n",
            "Step 1730/2000, train loss: 0.6375059485435486, \tTEST loss: 0.46808934211730957\n",
            "Step 1740/2000, train loss: 0.830662190914154, \tTEST loss: 0.5158675312995911\n",
            "Step 1750/2000, train loss: 0.44262152910232544, \tTEST loss: 0.6467600464820862\n",
            "Step 1760/2000, train loss: 0.5743299722671509, \tTEST loss: 0.4668920934200287\n",
            "Step 1770/2000, train loss: 0.44137972593307495, \tTEST loss: 0.28187042474746704\n",
            "Step 1780/2000, train loss: 0.5907760858535767, \tTEST loss: 0.7025018930435181\n",
            "Step 1790/2000, train loss: 0.4883187413215637, \tTEST loss: 0.5092378854751587\n",
            "Step 1800/2000, train loss: 0.49681639671325684, \tTEST loss: 0.45643049478530884\n",
            "Step 1810/2000, train loss: 0.31216681003570557, \tTEST loss: 0.43563511967658997\n",
            "Step 1820/2000, train loss: 0.6094297170639038, \tTEST loss: 0.5247806906700134\n",
            "Step 1830/2000, train loss: 0.3635118007659912, \tTEST loss: 0.39138299226760864\n",
            "Step 1840/2000, train loss: 0.6435641050338745, \tTEST loss: 0.5075282454490662\n",
            "Step 1850/2000, train loss: 0.8328902721405029, \tTEST loss: 0.5788605213165283\n",
            "Step 1860/2000, train loss: 0.3677685856819153, \tTEST loss: 0.6135339736938477\n",
            "Step 1870/2000, train loss: 0.32082679867744446, \tTEST loss: 0.37101203203201294\n",
            "Step 1880/2000, train loss: 0.4831843078136444, \tTEST loss: 0.8728817701339722\n",
            "Step 1890/2000, train loss: 0.234279066324234, \tTEST loss: 0.23605696856975555\n",
            "Step 1900/2000, train loss: 1.0929704904556274, \tTEST loss: 0.5831165313720703\n",
            "Step 1910/2000, train loss: 0.4075866937637329, \tTEST loss: 0.3777669072151184\n",
            "Step 1920/2000, train loss: 0.6429297924041748, \tTEST loss: 0.5551245212554932\n",
            "Step 1930/2000, train loss: 0.4516471028327942, \tTEST loss: 0.3832072913646698\n",
            "Step 1940/2000, train loss: 0.8279283046722412, \tTEST loss: 0.6662852764129639\n",
            "Step 1950/2000, train loss: 0.7325394153594971, \tTEST loss: 0.5208273530006409\n",
            "Step 1960/2000, train loss: 0.8640704154968262, \tTEST loss: 0.952100396156311\n",
            "Step 1970/2000, train loss: 0.5842198133468628, \tTEST loss: 0.5825520157814026\n",
            "Step 1980/2000, train loss: 0.798911452293396, \tTEST loss: 0.7437521815299988\n",
            "Step 1990/2000, train loss: 0.4203759431838989, \tTEST loss: 0.6251691579818726\n",
            "Step 2000/2000, train loss: 0.4483509659767151, \tTEST loss: 0.5623658895492554\n",
            "Final:. train loss: 0.4483509659767151, \tTEST loss: 0.5623658895492554\n"
          ],
          "name": "stdout"
        }
      ]
    },
    {
      "cell_type": "code",
      "metadata": {
        "id": "eV1HHHRcJEPb",
        "colab_type": "code",
        "outputId": "ffcd2c64-426e-453f-b3cf-7ab8b4cd5119",
        "colab": {
          "base_uri": "https://localhost:8080/",
          "height": 386
        }
      },
      "source": [
        "\n",
        "plt.figure(figsize=(12, 6))\n",
        "plt.plot( np.array(range(0, len(test_losses)))/float(len(test_losses)-1)*(len(train_losses)-1), np.log(test_losses), label=\"Test loss\")\n",
        "plt.plot(np.log(train_losses), label=\"Train loss\")\n",
        "\n",
        "plt.title(\"error vs time (log scale)\") \n",
        "plt.legend([\"Test\",\"Train\"])\n",
        "plt.xlabel('iter')\n",
        "plt.ylabel('log(Loss)') \n",
        "plt.show()"
      ],
      "execution_count": 0,
      "outputs": [
        {
          "output_type": "display_data",
          "data": {
            "image/png": "[encoded data removed]",
            "text/plain": [
              "<Figure size 864x432 with 1 Axes>"
            ]
          },
          "metadata": {
            "tags": [],
            "needs_background": "light"
          }
        }
      ]
    },
    {
      "cell_type": "code",
      "metadata": {
        "id": "1Y9hnTAUJIh1",
        "colab_type": "code",
        "outputId": "f8f57a29-6195-4c98-ec04-71f3cad9ee1f",
        "colab": {
          "base_uri": "https://localhost:8080/",
          "height": 474
        }
      },
      "source": [
        "nb_predictions = 1\n",
        "print (\" Let 's visualize {} predictions with our signals :\". format (nb_predictions ))\n",
        "X, Y = generate_x_y_data_v1( isTrain =False , batch_size = nb_predictions )\n",
        "feed_dict = { enc_inp [t]: X[t] for t in range ( seq_length )}\n",
        "outputs = np.array( sess.run([ reshaped_outputs ], feed_dict )[0])\n",
        "# выводим предсказания по каждому пакету\n",
        "for j in range ( nb_predictions ):\n",
        "    plt.figure( figsize =(12 , 3))\n",
        "    for k in range ( output_dim ):\n",
        "        past = X[:,j,k]\n",
        "        expected = Y[:,j,k]\n",
        "        pred = outputs [:,j,k]\n",
        "    label1 = \" Seen ( past ) values \" if k ==0 else \" _nolegend_ \"\n",
        "    label2 = \" True future values \" if k ==0 else \" _nolegend_ \"\n",
        "    label3 = \" Predictions \" if k ==0 else \" _nolegend_ \"\n",
        "    plt.plot(range(len(past)), past , \"o--b\", label = label1 )\n",
        "    plt.plot(range(len(past),len(expected)+len(past)), expected, \"x--b\", label = label2)\n",
        "    plt.plot(range(len(past),len(pred) + len (past)), pred , \"o--y\", label = label3 )\n",
        "    plt.legend( loc ='best ')\n",
        "    plt.title(\" Predictions v.s. true values \")\n",
        "    plt.show()"
      ],
      "execution_count": 0,
      "outputs": [
        {
          "output_type": "stream",
          "text": [
            " Let 's visualize 1 predictions with our signals :\n"
          ],
          "name": "stdout"
        },
        {
          "output_type": "stream",
          "text": [
            "/usr/local/lib/python3.6/dist-packages/ipykernel_launcher.py:19: MatplotlibDeprecationWarning: Unrecognized location 'best '. Falling back on 'best'; valid locations are\n",
            "\tbest\n",
            "\tupper right\n",
            "\tupper left\n",
            "\tlower left\n",
            "\tlower right\n",
            "\tright\n",
            "\tcenter left\n",
            "\tcenter right\n",
            "\tlower center\n",
            "\tupper center\n",
            "\tcenter\n",
            "This will raise an exception in 3.3.\n"
          ],
          "name": "stderr"
        },
        {
          "output_type": "display_data",
          "data": {
            "image/png": "[encoded data removed]",
            "text/plain": [
              "<Figure size 864x216 with 1 Axes>"
            ]
          },
          "metadata": {
            "tags": [],
            "needs_background": "light"
          }
        }
      ]
    }
  ]
}