{
  "nbformat": 4,
  "nbformat_minor": 0,
  "metadata": {
    "colab": {
      "name": "Untitled65.ipynb",
      "provenance": [],
      "authorship_tag": "ABX9TyO6s5dlWnc+ookmsogwSrNb",
      "include_colab_link": true
    },
    "kernelspec": {
      "name": "python3",
      "display_name": "Python 3"
    }
  },
  "cells": [
    {
      "cell_type": "markdown",
      "metadata": {
        "id": "view-in-github",
        "colab_type": "text"
      },
      "source": [
        "<a href=\"https://colab.research.google.com/github/ZawWin58/firstproject/blob/master/lab6-2.ipynb\" target=\"_parent\"><img src=\"https://colab.research.google.com/assets/colab-badge.svg\" alt=\"Open In Colab\"/></a>"
      ]
    },
    {
      "cell_type": "code",
      "metadata": {
        "id": "JsN_aWd1K56y",
        "colab_type": "code",
        "colab": {
          "base_uri": "https://localhost:8080/",
          "height": 34
        },
        "outputId": "8485af3b-ec9b-40d9-a68d-e7f7b9cf25e4"
      },
      "source": [
        "%tensorflow_version 1.x"
      ],
      "execution_count": 1,
      "outputs": [
        {
          "output_type": "stream",
          "text": [
            "TensorFlow 1.x selected.\n"
          ],
          "name": "stdout"
        }
      ]
    },
    {
      "cell_type": "code",
      "metadata": {
        "id": "FXUv5i54LDKL",
        "colab_type": "code",
        "colab": {}
      },
      "source": [
        "import numpy as np\n",
        "import random\n",
        "import math\n",
        "import tensorflow as tf\n",
        "import matplotlib.pyplot as plt"
      ],
      "execution_count": 0,
      "outputs": []
    },
    {
      "cell_type": "code",
      "metadata": {
        "id": "6LfmsqiXLHBP",
        "colab_type": "code",
        "colab": {}
      },
      "source": [
        "def generate_x_y_data_two_freqs(isTrain , batch_size , seq_length):\n",
        "    batch_x = [] \n",
        "    batch_y = []\n",
        "\n",
        "    for _ in range(batch_size):\n",
        "        offset_rand = random.random() * 2 * math.pi\n",
        "        freq_rand = (random.random() - 0.5) / 1.5 * 15 + 0.5\n",
        "        amp_rand = random.random() + 0.1\n",
        "        \n",
        "        sig1 = amp_rand * np.sin(np.linspace(\n",
        "            seq_length / 15.0 * freq_rand * 0.0 * math.pi + offset_rand,\n",
        "            seq_length / 15.0 * freq_rand * 3.0 * math.pi + offset_rand , seq_length * 2)\n",
        "        )\n",
        "        \n",
        "        offset_rand = random.random() * 2 * math.pi\n",
        "        freq_rand = (random.random() - 0.5) / 1.5 * 15 + 0.5\n",
        "        amp_rand = random.random() * 1.2\n",
        "        sig1 = amp_rand * np.cos(np.linspace(\n",
        "            seq_length / 15.0 * freq_rand * 0.0 * math.pi + offset_rand,\n",
        "            seq_length / 15.0 * freq_rand * 3.0 * math.pi + offset_rand , seq_length * 2)\n",
        "        ) + sig1\n",
        "        \n",
        "        x1 = sig1[:seq_length]\n",
        "        y1 = sig1[seq_length:]\n",
        "        x_ = np.array([x1])\n",
        "        y_ = np.array([y1])\n",
        "        x_, y_ = x_.T, y_.T\n",
        "        \n",
        "        batch_x.append(x_)\n",
        "        batch_y.append(y_)\n",
        "        \n",
        "    batch_x = np.array(batch_x)\n",
        "    batch_y = np.array(batch_y)\n",
        "    # размерность: (batch_size , seq_length , output_dim)\n",
        "    batch_x = np.array(batch_x).transpose((1, 0, 2))\n",
        "    batch_y = np.array(batch_y).transpose((1, 0, 2))\n",
        "    # размерность: (seq_length , batch_size , output_dim)\n",
        "\n",
        "    return batch_x , batch_y\n"
      ],
      "execution_count": 0,
      "outputs": []
    },
    {
      "cell_type": "code",
      "metadata": {
        "id": "0m1mZbXBLNJZ",
        "colab_type": "code",
        "colab": {}
      },
      "source": [
        "def generate_x_y_data_v2(isTrain, batch_size):\n",
        "    return generate_x_y_data_two_freqs(isTrain, batch_size, seq_length=15)"
      ],
      "execution_count": 0,
      "outputs": []
    },
    {
      "cell_type": "code",
      "metadata": {
        "id": "hpriINcoLQDJ",
        "colab_type": "code",
        "colab": {}
      },
      "source": [
        "\n",
        "# Данные имеют размерность (seq_length , batch_size , output_dim) \n",
        "sample_x , sample_y = generate_x_y_data_v2(isTrain=True , batch_size=3)\n",
        "\n",
        "# Длина последовательности (в данных примерах одинаковая для обучающих и тестовых данных)\n",
        "seq_length = sample_x.shape[0] \n",
        "\n",
        "# Размер пакета количество(тестовых примеров), по которому усредняется градиент\n",
        "batch_size = 100\n",
        "# Размерность выходных данных \n",
        "output_dim = input_dim = sample_x.shape[-1]\n",
        "# Количество скрытых нейронов в каждой ячейке\n",
        "hidden_dim = 50\n",
        "# Количество ячеек рекуррентной сети (в глубину)\n",
        "layers_stacked_count = 1\n",
        "\n",
        "# Параметры оптимизатора \n",
        "# Скорость обучения маленькая (скорость обучения позволяет алгоритму не расходиться во время обучения)\n",
        "learning_rate = 0.005\n",
        "# Количество итераций по обучающей выборке \n",
        "nb_iters = 1000\n",
        "# Дополнительные параметры алгоритма оптимизации\n",
        "lr_decay = 0.9\n",
        "momentum = 0.8\n",
        "# Коэффициент L2 регуляризации\n",
        "lambda_l2_reg = 1e-10"
      ],
      "execution_count": 0,
      "outputs": []
    },
    {
      "cell_type": "code",
      "metadata": {
        "id": "paaT1tfBLTAB",
        "colab_type": "code",
        "colab": {
          "base_uri": "https://localhost:8080/",
          "height": 151
        },
        "outputId": "ea36a80b-fbae-4714-fec5-630df5a99dab"
      },
      "source": [
        "tf.nn.seq2seq = tf.contrib.legacy_seq2seq\n",
        "tf.nn.rnn_cell = tf.contrib.rnn\n",
        "tf.nn.rnn_cell.GRUCell = tf.contrib.rnn.GRUCell"
      ],
      "execution_count": 7,
      "outputs": [
        {
          "output_type": "stream",
          "text": [
            "WARNING:tensorflow:\n",
            "The TensorFlow contrib module will not be included in TensorFlow 2.0.\n",
            "For more information, please see:\n",
            "  * https://github.com/tensorflow/community/blob/master/rfcs/20180907-contrib-sunset.md\n",
            "  * https://github.com/tensorflow/addons\n",
            "  * https://github.com/tensorflow/io (for I/O related ops)\n",
            "If you depend on functionality not listed there, please file an issue.\n",
            "\n"
          ],
          "name": "stdout"
        }
      ]
    },
    {
      "cell_type": "code",
      "metadata": {
        "id": "i1PUPLcCLWj7",
        "colab_type": "code",
        "colab": {}
      },
      "source": [
        "tf.reset_default_graph()\n",
        "# интерактивная сессия\n",
        "sess = tf.InteractiveSession()"
      ],
      "execution_count": 0,
      "outputs": []
    },
    {
      "cell_type": "code",
      "metadata": {
        "id": "jPsm8QY2LZgU",
        "colab_type": "code",
        "colab": {
          "base_uri": "https://localhost:8080/",
          "height": 339
        },
        "outputId": "8301c4fc-b125-4c43-e590-1870606a3374"
      },
      "source": [
        "with tf.variable_scope('Seq2seq'):\n",
        "    enc_inp = [\n",
        "        tf.placeholder(tf.float32, shape=(None, input_dim), name=\"inp_{}\".format(t))\n",
        "            for t in range(seq_length)\n",
        "    ]\n",
        "\n",
        "    expected_sparse_output = [\n",
        "        tf.placeholder(tf.float32 , shape=(None , output_dim), name=\"expected_sparse_output_\".format(t))\n",
        "            for t in range(seq_length)\n",
        "    ]\n",
        "    \n",
        "    dec_inp = [ tf.zeros_like(enc_inp[0], dtype=np.float32 , name=\"GO\") ] + enc_inp[:-1]\n",
        "    \n",
        "    cells = []\n",
        "    for i in range(layers_stacked_count):\n",
        "        with tf.variable_scope('RNN_{}'.format(i)):\n",
        "            cells.append(tf.nn.rnn_cell.GRUCell(hidden_dim))\n",
        "            \n",
        "    cell = tf.nn.rnn_cell.MultiRNNCell(cells)\n",
        "    \n",
        "    w_in = tf.Variable(tf.random_normal([input_dim , hidden_dim]))\n",
        "    b_in = tf.Variable(tf.random_normal([hidden_dim], mean=1.0))\n",
        "    w_out = tf.Variable(tf.random_normal([hidden_dim , output_dim]))\n",
        "    b_out = tf.Variable(tf.random_normal([output_dim]))\n",
        "\n",
        "    reshaped_inputs = [tf.nn.relu(tf.matmul(i, w_in) + b_in) for i in enc_inp]\n",
        "    \n",
        "    dec_outputs, dec_memory = tf.nn.seq2seq.basic_rnn_seq2seq(enc_inp, dec_inp, cell)\n",
        "    \n",
        "    output_scale_factor = tf.Variable(1.0, name=\"Output_ScaleFactor\")\n",
        "    reshaped_outputs = [output_scale_factor * (tf.matmul(i, w_out) + b_out) for i in dec_outputs]"
      ],
      "execution_count": 9,
      "outputs": [
        {
          "output_type": "stream",
          "text": [
            "WARNING:tensorflow:From <ipython-input-9-a9e263b0cf24>:17: GRUCell.__init__ (from tensorflow.python.ops.rnn_cell_impl) is deprecated and will be removed in a future version.\n",
            "Instructions for updating:\n",
            "This class is equivalent as tf.keras.layers.GRUCell, and will be replaced by that in Tensorflow 2.0.\n",
            "WARNING:tensorflow:From <ipython-input-9-a9e263b0cf24>:19: MultiRNNCell.__init__ (from tensorflow.python.ops.rnn_cell_impl) is deprecated and will be removed in a future version.\n",
            "Instructions for updating:\n",
            "This class is equivalent as tf.keras.layers.StackedRNNCells, and will be replaced by that in Tensorflow 2.0.\n",
            "WARNING:tensorflow:From /tensorflow-1.15.2/python3.6/tensorflow_core/contrib/legacy_seq2seq/python/ops/seq2seq.py:186: static_rnn (from tensorflow.python.ops.rnn) is deprecated and will be removed in a future version.\n",
            "Instructions for updating:\n",
            "Please use `keras.layers.RNN(cell, unroll=True)`, which is equivalent to this API\n",
            "WARNING:tensorflow:From /tensorflow-1.15.2/python3.6/tensorflow_core/python/ops/rnn_cell_impl.py:559: Layer.add_variable (from tensorflow.python.keras.engine.base_layer) is deprecated and will be removed in a future version.\n",
            "Instructions for updating:\n",
            "Please use `layer.add_weight` method instead.\n",
            "WARNING:tensorflow:From /tensorflow-1.15.2/python3.6/tensorflow_core/python/ops/rnn_cell_impl.py:565: calling Constant.__init__ (from tensorflow.python.ops.init_ops) with dtype is deprecated and will be removed in a future version.\n",
            "Instructions for updating:\n",
            "Call initializer instance with the dtype argument instead of passing it to the constructor\n",
            "WARNING:tensorflow:From /tensorflow-1.15.2/python3.6/tensorflow_core/python/ops/rnn_cell_impl.py:575: calling Zeros.__init__ (from tensorflow.python.ops.init_ops) with dtype is deprecated and will be removed in a future version.\n",
            "Instructions for updating:\n",
            "Call initializer instance with the dtype argument instead of passing it to the constructor\n"
          ],
          "name": "stdout"
        }
      ]
    },
    {
      "cell_type": "code",
      "metadata": {
        "id": "OMyCoG-fLemO",
        "colab_type": "code",
        "colab": {}
      },
      "source": [
        "with tf.variable_scope('Loss'):\n",
        "    # L2 loss\n",
        "    output_loss = 0\n",
        "    for _y, _Y in zip(reshaped_outputs, expected_sparse_output):\n",
        "        output_loss += tf.reduce_mean(tf.nn.l2_loss(_y - _Y))\n",
        "\n",
        "    # слагаемое, отвечающее за L2 регуляризацию\n",
        "    reg_loss = 0\n",
        "    for tf_var in tf.trainable_variables():\n",
        "        if not (\"Bias\" in tf_var.name or \"Output_\" in tf_var.name):\n",
        "            reg_loss += tf.reduce_mean(tf.nn.l2_loss(tf_var))\n",
        "\n",
        "    loss = output_loss  + lambda_l2_reg * reg_loss"
      ],
      "execution_count": 0,
      "outputs": []
    },
    {
      "cell_type": "code",
      "metadata": {
        "id": "ViCfKuy3LiA7",
        "colab_type": "code",
        "colab": {
          "base_uri": "https://localhost:8080/",
          "height": 87
        },
        "outputId": "8d5f3491-57e2-4154-9c4f-50a781b87e04"
      },
      "source": [
        "with tf.variable_scope('Optimizer'):\n",
        "    optimizer = tf.train.RMSPropOptimizer(learning_rate, decay=lr_decay, momentum=momentum)\n",
        "    train_op = optimizer.minimize(loss)"
      ],
      "execution_count": 11,
      "outputs": [
        {
          "output_type": "stream",
          "text": [
            "WARNING:tensorflow:From /tensorflow-1.15.2/python3.6/tensorflow_core/python/training/rmsprop.py:119: calling Ones.__init__ (from tensorflow.python.ops.init_ops) with dtype is deprecated and will be removed in a future version.\n",
            "Instructions for updating:\n",
            "Call initializer instance with the dtype argument instead of passing it to the constructor\n"
          ],
          "name": "stdout"
        }
      ]
    },
    {
      "cell_type": "code",
      "metadata": {
        "id": "HrQK9MBOLmCO",
        "colab_type": "code",
        "colab": {}
      },
      "source": [
        "\n",
        "# Шаг обучения, который оптимизирует веса в соответствии с переданным минипакетом-примеров\n",
        "def train_batch(batch_size):\n",
        "    X, Y = generate_x_y_data_v2(isTrain=True , batch_size=batch_size)\n",
        "    feed_dict = {enc_inp[t]: X[t] for t in range(len(enc_inp))} \n",
        "    feed_dict.update({expected_sparse_output[t]: Y[t] for t in range(len(expected_sparse_output))}) \n",
        "    #  запускаем сессию. При этом рассчитываются тензоры, указанные в первом параметре, \n",
        "    # а значения для них берутся из второго параметра\n",
        "    _, loss_t = sess.run([train_op , loss], feed_dict)\n",
        "    \n",
        "    return loss_t"
      ],
      "execution_count": 0,
      "outputs": []
    },
    {
      "cell_type": "code",
      "metadata": {
        "id": "96UvBxpaLoe4",
        "colab_type": "code",
        "colab": {
          "base_uri": "https://localhost:8080/",
          "height": 1000
        },
        "outputId": "9a020417-b388-46f7-8144-6294a798e586"
      },
      "source": [
        "# Тестовый прогон. Веса не обновляются благодаря тому, что переменная train_op не передается в sess.run\n",
        "def test_batch(batch_size, graph=False): \n",
        "    X, Y = generate_x_y_data_v2(isTrain=False, batch_size=batch_size)\n",
        "    feed_dict = {enc_inp[t]: X[t] for t in range(len(enc_inp))}\n",
        "    feed_dict.update({expected_sparse_output[t]: Y[t] for t in range(len(expected_sparse_output))}) \n",
        "    loss_t = sess.run([loss], feed_dict)\n",
        "    \n",
        "    return loss_t[0]\n",
        "\n",
        "train_losses = []\n",
        "test_losses = []\n",
        "sess.run(tf.global_variables_initializer())\n",
        "\n",
        "#nb_iters - количество шагов для обучения. После каждых 10 шагов проверяется ошибка на тестовой выборке\n",
        "\n",
        "\n",
        "for t in range(nb_iters+1):\n",
        "    train_loss = train_batch(batch_size)\n",
        "    train_losses.append(train_loss)\n",
        "\n",
        "    if t % 10 == 0:\n",
        "        test_loss = test_batch(batch_size, t==nb_iters)\n",
        "        test_losses.append(test_loss)\n",
        "        print(\"Step {}/{}, train loss: {}, \\tTEST loss: {}\".format(t, nb_iters , train_loss , test_loss))\n",
        "\n",
        "print(\"Fin. train loss: {}, \\tTEST loss: {}\".format(train_loss , test_loss))"
      ],
      "execution_count": 13,
      "outputs": [
        {
          "output_type": "stream",
          "text": [
            "Step 0/1000, train loss: 836.8162231445312, \tTEST loss: 387.0885925292969\n",
            "Step 10/1000, train loss: 362.49853515625, \tTEST loss: 321.69439697265625\n",
            "Step 20/1000, train loss: 374.68145751953125, \tTEST loss: 360.41009521484375\n",
            "Step 30/1000, train loss: 356.98004150390625, \tTEST loss: 369.432861328125\n",
            "Step 40/1000, train loss: 365.0556335449219, \tTEST loss: 378.0721435546875\n",
            "Step 50/1000, train loss: 323.5160217285156, \tTEST loss: 394.6963195800781\n",
            "Step 60/1000, train loss: 381.0569152832031, \tTEST loss: 296.62353515625\n",
            "Step 70/1000, train loss: 370.9668884277344, \tTEST loss: 293.2415771484375\n",
            "Step 80/1000, train loss: 292.9325256347656, \tTEST loss: 326.2239990234375\n",
            "Step 90/1000, train loss: 313.71075439453125, \tTEST loss: 280.5329895019531\n",
            "Step 100/1000, train loss: 275.5578918457031, \tTEST loss: 326.0035705566406\n",
            "Step 110/1000, train loss: 290.7535095214844, \tTEST loss: 263.6080322265625\n",
            "Step 120/1000, train loss: 239.0108642578125, \tTEST loss: 335.9031982421875\n",
            "Step 130/1000, train loss: 318.1869812011719, \tTEST loss: 258.4812316894531\n",
            "Step 140/1000, train loss: 252.3455810546875, \tTEST loss: 274.23956298828125\n",
            "Step 150/1000, train loss: 295.4497985839844, \tTEST loss: 232.60269165039062\n",
            "Step 160/1000, train loss: 262.49560546875, \tTEST loss: 233.93287658691406\n",
            "Step 170/1000, train loss: 228.98049926757812, \tTEST loss: 189.69793701171875\n",
            "Step 180/1000, train loss: 208.0279541015625, \tTEST loss: 227.97418212890625\n",
            "Step 190/1000, train loss: 217.00999450683594, \tTEST loss: 225.8604736328125\n",
            "Step 200/1000, train loss: 237.38446044921875, \tTEST loss: 181.13369750976562\n",
            "Step 210/1000, train loss: 214.61776733398438, \tTEST loss: 224.21466064453125\n",
            "Step 220/1000, train loss: 211.85324096679688, \tTEST loss: 185.65231323242188\n",
            "Step 230/1000, train loss: 189.47177124023438, \tTEST loss: 199.48297119140625\n",
            "Step 240/1000, train loss: 253.25665283203125, \tTEST loss: 200.9773406982422\n",
            "Step 250/1000, train loss: 209.77151489257812, \tTEST loss: 264.27239990234375\n",
            "Step 260/1000, train loss: 235.379638671875, \tTEST loss: 185.23895263671875\n",
            "Step 270/1000, train loss: 185.26609802246094, \tTEST loss: 211.8257598876953\n",
            "Step 280/1000, train loss: 187.6872100830078, \tTEST loss: 176.05987548828125\n",
            "Step 290/1000, train loss: 283.617919921875, \tTEST loss: 216.8896026611328\n",
            "Step 300/1000, train loss: 181.15567016601562, \tTEST loss: 201.1246337890625\n",
            "Step 310/1000, train loss: 190.66592407226562, \tTEST loss: 196.0304412841797\n",
            "Step 320/1000, train loss: 199.08482360839844, \tTEST loss: 151.5709991455078\n",
            "Step 330/1000, train loss: 189.3031005859375, \tTEST loss: 180.9969940185547\n",
            "Step 340/1000, train loss: 161.01290893554688, \tTEST loss: 177.47352600097656\n",
            "Step 350/1000, train loss: 178.31967163085938, \tTEST loss: 158.27720642089844\n",
            "Step 360/1000, train loss: 239.39236450195312, \tTEST loss: 201.9905548095703\n",
            "Step 370/1000, train loss: 208.82583618164062, \tTEST loss: 169.2594757080078\n",
            "Step 380/1000, train loss: 162.89056396484375, \tTEST loss: 160.6031036376953\n",
            "Step 390/1000, train loss: 196.67140197753906, \tTEST loss: 176.87841796875\n",
            "Step 400/1000, train loss: 177.74855041503906, \tTEST loss: 144.15829467773438\n",
            "Step 410/1000, train loss: 172.947509765625, \tTEST loss: 160.72000122070312\n",
            "Step 420/1000, train loss: 162.27354431152344, \tTEST loss: 158.05453491210938\n",
            "Step 430/1000, train loss: 211.88809204101562, \tTEST loss: 160.0762939453125\n",
            "Step 440/1000, train loss: 157.6009979248047, \tTEST loss: 179.81590270996094\n",
            "Step 450/1000, train loss: 171.77365112304688, \tTEST loss: 166.31695556640625\n",
            "Step 460/1000, train loss: 142.67185974121094, \tTEST loss: 166.57330322265625\n",
            "Step 470/1000, train loss: 127.3446044921875, \tTEST loss: 168.25209045410156\n",
            "Step 480/1000, train loss: 154.14309692382812, \tTEST loss: 160.55792236328125\n",
            "Step 490/1000, train loss: 155.3578338623047, \tTEST loss: 152.44676208496094\n",
            "Step 500/1000, train loss: 150.767578125, \tTEST loss: 149.0238037109375\n",
            "Step 510/1000, train loss: 141.41961669921875, \tTEST loss: 128.83253479003906\n",
            "Step 520/1000, train loss: 140.7117462158203, \tTEST loss: 187.0657958984375\n",
            "Step 530/1000, train loss: 168.49171447753906, \tTEST loss: 128.76071166992188\n",
            "Step 540/1000, train loss: 139.78982543945312, \tTEST loss: 139.16734313964844\n",
            "Step 550/1000, train loss: 132.31243896484375, \tTEST loss: 126.78751373291016\n",
            "Step 560/1000, train loss: 133.47650146484375, \tTEST loss: 147.51876831054688\n",
            "Step 570/1000, train loss: 134.02371215820312, \tTEST loss: 146.392333984375\n",
            "Step 580/1000, train loss: 151.29537963867188, \tTEST loss: 113.06066131591797\n",
            "Step 590/1000, train loss: 118.0282974243164, \tTEST loss: 155.84420776367188\n",
            "Step 600/1000, train loss: 149.3848876953125, \tTEST loss: 134.51168823242188\n",
            "Step 610/1000, train loss: 98.97753143310547, \tTEST loss: 136.03562927246094\n",
            "Step 620/1000, train loss: 132.47149658203125, \tTEST loss: 126.89978790283203\n",
            "Step 630/1000, train loss: 118.27997589111328, \tTEST loss: 122.85446166992188\n",
            "Step 640/1000, train loss: 136.5050048828125, \tTEST loss: 137.6751251220703\n",
            "Step 650/1000, train loss: 155.39114379882812, \tTEST loss: 130.0040283203125\n",
            "Step 660/1000, train loss: 120.95125579833984, \tTEST loss: 167.91656494140625\n",
            "Step 670/1000, train loss: 136.37628173828125, \tTEST loss: 101.83010864257812\n",
            "Step 680/1000, train loss: 132.7588653564453, \tTEST loss: 97.02819061279297\n",
            "Step 690/1000, train loss: 145.82351684570312, \tTEST loss: 112.73684692382812\n",
            "Step 700/1000, train loss: 126.64576721191406, \tTEST loss: 99.68187713623047\n",
            "Step 710/1000, train loss: 131.6422119140625, \tTEST loss: 121.88947296142578\n",
            "Step 720/1000, train loss: 103.31027221679688, \tTEST loss: 127.504638671875\n",
            "Step 730/1000, train loss: 125.85264587402344, \tTEST loss: 105.70094299316406\n",
            "Step 740/1000, train loss: 98.48600769042969, \tTEST loss: 144.42620849609375\n",
            "Step 750/1000, train loss: 125.27738952636719, \tTEST loss: 124.89641571044922\n",
            "Step 760/1000, train loss: 102.1208724975586, \tTEST loss: 129.5416717529297\n",
            "Step 770/1000, train loss: 96.56497955322266, \tTEST loss: 106.5614013671875\n",
            "Step 780/1000, train loss: 109.88343811035156, \tTEST loss: 129.61483764648438\n",
            "Step 790/1000, train loss: 92.30859375, \tTEST loss: 97.5713882446289\n",
            "Step 800/1000, train loss: 100.95362091064453, \tTEST loss: 124.42958068847656\n",
            "Step 810/1000, train loss: 100.3134765625, \tTEST loss: 93.84693908691406\n",
            "Step 820/1000, train loss: 96.00548553466797, \tTEST loss: 97.13720703125\n",
            "Step 830/1000, train loss: 100.14351654052734, \tTEST loss: 112.96739196777344\n",
            "Step 840/1000, train loss: 101.59465789794922, \tTEST loss: 113.11018371582031\n",
            "Step 850/1000, train loss: 119.29756927490234, \tTEST loss: 110.14049530029297\n",
            "Step 860/1000, train loss: 90.75575256347656, \tTEST loss: 89.5352554321289\n",
            "Step 870/1000, train loss: 80.52510833740234, \tTEST loss: 108.62975311279297\n",
            "Step 880/1000, train loss: 122.80084991455078, \tTEST loss: 123.00581359863281\n",
            "Step 890/1000, train loss: 117.2703857421875, \tTEST loss: 126.94393157958984\n",
            "Step 900/1000, train loss: 119.78266143798828, \tTEST loss: 108.86103820800781\n",
            "Step 910/1000, train loss: 89.36957550048828, \tTEST loss: 97.91497802734375\n",
            "Step 920/1000, train loss: 81.67822265625, \tTEST loss: 91.8187484741211\n",
            "Step 930/1000, train loss: 135.04815673828125, \tTEST loss: 109.62429809570312\n",
            "Step 940/1000, train loss: 128.19808959960938, \tTEST loss: 101.345458984375\n",
            "Step 950/1000, train loss: 86.63291931152344, \tTEST loss: 108.9610366821289\n",
            "Step 960/1000, train loss: 110.56803131103516, \tTEST loss: 93.69591522216797\n",
            "Step 970/1000, train loss: 106.89312744140625, \tTEST loss: 121.94157409667969\n",
            "Step 980/1000, train loss: 82.08311462402344, \tTEST loss: 106.5655746459961\n",
            "Step 990/1000, train loss: 92.57178497314453, \tTEST loss: 95.3333511352539\n",
            "Step 1000/1000, train loss: 83.057373046875, \tTEST loss: 83.44602966308594\n",
            "Fin. train loss: 83.057373046875, \tTEST loss: 83.44602966308594\n"
          ],
          "name": "stdout"
        }
      ]
    },
    {
      "cell_type": "code",
      "metadata": {
        "id": "fkwh9aSsL2_v",
        "colab_type": "code",
        "colab": {
          "base_uri": "https://localhost:8080/",
          "height": 370
        },
        "outputId": "7f54105b-262d-4f15-f54a-a57a81395b55"
      },
      "source": [
        "plt.figure(figsize=(12, 6))\n",
        "plt.plot( np.array(range(0, len(test_losses)))/float(len(test_losses)-1)*(len(train_losses)-1), np.log(test_losses), label=\"Test loss\")\n",
        "plt.plot(np.log(train_losses), label=\"Train loss\")\n",
        "\n",
        "#log scale\n",
        "plt.legend([\"Test\",\"Train\"])\n",
        "plt.xlabel('Iteration')\n",
        "plt.ylabel('log(Loss)') \n",
        "plt.show()"
      ],
      "execution_count": 14,
      "outputs": [
        {
          "output_type": "display_data",
          "data": {
            "image/png": "[encoded data removed]",
            "text/plain": [
              "<Figure size 864x432 with 1 Axes>"
            ]
          },
          "metadata": {
            "tags": [],
            "needs_background": "light"
          }
        }
      ]
    },
    {
      "cell_type": "code",
      "metadata": {
        "id": "JC2QNp2PL7yG",
        "colab_type": "code",
        "colab": {
          "base_uri": "https://localhost:8080/",
          "height": 462
        },
        "outputId": "49ab574a-2b13-475c-b4cc-c526614a8e85"
      },
      "source": [
        "nb_predictions = 1\n",
        "print (\" Let 's visualize {} predictions with our signals :\". format (nb_predictions ))\n",
        "X, Y = generate_x_y_data_v2( isTrain =False , batch_size = nb_predictions )\n",
        "feed_dict = { enc_inp [t]: X[t] for t in range ( seq_length )}\n",
        "outputs = np.array( sess.run([ reshaped_outputs ], feed_dict )[0])\n",
        "# выводим предсказания по каждому пакету\n",
        "for j in range ( nb_predictions ):\n",
        "    plt.figure( figsize =(12 , 3))\n",
        "    for k in range ( output_dim ):\n",
        "        past = X[:,j,k]\n",
        "        expected = Y[:,j,k]\n",
        "        pred = outputs [:,j,k]\n",
        "    label1 = \" Seen ( past ) values \" if k ==0 else \" _nolegend_ \"\n",
        "    label2 = \" True future values \" if k ==0 else \" _nolegend_ \"\n",
        "    label3 = \" Predictions \" if k ==0 else \" _nolegend_ \"\n",
        "    plt.plot(range(len(past)), past , \"o--b\", label = label1 )\n",
        "    plt.plot(range(len(past),len(expected)+len(past)), expected, \"x--b\", label = label2)\n",
        "    plt.plot(range(len(past),len(pred) + len (past)), pred , \"o--y\", label = label3 )\n",
        "    plt.legend( loc ='best ')\n",
        "    plt.title(\" Predictions v.s. true values \")\n",
        "    plt.show()"
      ],
      "execution_count": 15,
      "outputs": [
        {
          "output_type": "stream",
          "text": [
            " Let 's visualize 1 predictions with our signals :\n"
          ],
          "name": "stdout"
        },
        {
          "output_type": "stream",
          "text": [
            "/usr/local/lib/python3.6/dist-packages/ipykernel_launcher.py:19: MatplotlibDeprecationWarning: Unrecognized location 'best '. Falling back on 'best'; valid locations are\n",
            "\tbest\n",
            "\tupper right\n",
            "\tupper left\n",
            "\tlower left\n",
            "\tlower right\n",
            "\tright\n",
            "\tcenter left\n",
            "\tcenter right\n",
            "\tlower center\n",
            "\tupper center\n",
            "\tcenter\n",
            "This will raise an exception in 3.3.\n"
          ],
          "name": "stderr"
        },
        {
          "output_type": "display_data",
          "data": {
            "image/png": "[encoded data removed]",
            "text/plain": [
              "<Figure size 864x216 with 1 Axes>"
            ]
          },
          "metadata": {
            "tags": [],
            "needs_background": "light"
          }
        }
      ]
    }
  ]
}